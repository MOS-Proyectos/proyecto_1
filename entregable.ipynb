{
 "cells": [
  {
   "cell_type": "markdown",
   "metadata": {},
   "source": [
    "# Modelado, Simulación y Optimización - Proyecto 1\n",
    "\n",
    "Amalia Cabonell - xxxxxx \\\n",
    "Santiago Arenas - xxxxxx \\\n",
    "Santiago Casasbuenas - 202214932"
   ]
  },
  {
   "cell_type": "markdown",
   "metadata": {},
   "source": [
    "## Problema a resolver - Proyecto C\n",
    "\n",
    "**Objetivo:** El presente proyecto tiene como objetivo diseñar una estrategia integral de rutaspara el transporte de carga a nivel nacional, que permita minimizar los costos ope-rativos y de combustible. Se deberá garantizar la disponibilidad de recarga medianteestaciones de servicio estratégicamente ubicadas, a la vez que se respeta la restricciónde peso impuesta en cada municipio por razones de seguridad vial.\n"
   ]
  },
  {
   "cell_type": "markdown",
   "metadata": {},
   "source": [
    "## Parte 1 - Formulación Matemática Completa"
   ]
  },
  {
   "cell_type": "markdown",
   "metadata": {},
   "source": [
    "### Definición de conjuntos\n",
    "Se especificará de forma clara los conjuntos relevantes vinculados al problema."
   ]
  },
  {
   "cell_type": "markdown",
   "metadata": {},
   "source": [
    "#### 1. Conjunto de Puntos de Acceso (Puertos)\n",
    "\n",
    "$P$: Conjunto de nodos origen donde se ingresan las mercancias.\n",
    "\n",
    "Ejemplo: $P = {p_1}$ donde $p_1 = $ Puerto Barranquilla"
   ]
  },
  {
   "cell_type": "markdown",
   "metadata": {},
   "source": [
    "#### 2. Conjunto de Destinos (Centros de Consumo)\n",
    "\n",
    "$D$: Conjunto de destinos finales o municipios consumidores.\n",
    "\n",
    "Ejemplo: $D = {d_1, d_2, d_3}$ donde:\n",
    "\n",
    "$d_1 = $ Bogotá\n",
    "\n",
    "$d_2 = $ Guasca\n",
    "\n",
    "$d_3 = $ Cogua"
   ]
  },
  {
   "cell_type": "markdown",
   "metadata": {},
   "source": [
    "#### 3. Conjunto de Estaciones de Servicio\n",
    "\n",
    "$E$: Conjunto de estaciones de recarga de combustibles disponibles en la red.\n",
    "\n",
    "Ejemplo: $E = {e_1, e_2, e_3}$ donde:\n",
    "\n",
    "$e_1 = $ Estación La Estrella\n",
    "\n",
    "$e_2 = $ Estación El Sol\n",
    "\n",
    "$e_3 = $ Estación Caribe"
   ]
  },
  {
   "cell_type": "markdown",
   "metadata": {},
   "source": [
    "#### 4. Conjunto de Vehículos\n",
    "\n",
    "$V$: Conjunto de vehículos disponibles para el transporte.\n",
    "\n",
    "Ejemplo: $V = {v_1, v_2, v_3}$ donde:\n",
    "\n",
    "$v_1 = $ Camión de 30 ton\n",
    "\n",
    "$v_2 = $ Camión de 25 ton\n",
    "\n",
    "$v_3 = $ Camión de 20 ton"
   ]
  },
  {
   "cell_type": "markdown",
   "metadata": {},
   "source": [
    "#### 5. Conjunto de \"Arcos\" Posibles\n",
    "\n",
    "$A$: Conjunto de arcos entre nodos (puertos, estaciones, destinos) que representan posibles trayectos.\n",
    "\n",
    "- Cada arco $(i, j)$ indica que es posible moverse del nodo $i$ al nodo $j$.\n",
    "\n",
    "- Este conjunto se infiere del grafo de la red vial nacional y será determinado con base en la conectividad real y los peajes existentes."
   ]
  },
  {
   "cell_type": "markdown",
   "metadata": {},
   "source": [
    "#### 6. Conjunto de Municipios con Restricción de Peso\n",
    "\n",
    "$M ⊆ D$: Subconjunto de destinos con restricción de peso para los vehículos.\n",
    "\n",
    "Ejemplo: $E = {d_2, d_3}$ donde Guasca y Cogua tienen límites de peso."
   ]
  },
  {
   "cell_type": "markdown",
   "metadata": {},
   "source": [
    "### Definición de Parámetros\n",
    "Lista de todas las constantes necesarias. Para este escenario, vamos a clasificar los parámetros en grupos de acuerdo con su tema, así serán más faciles de ubicar y diferenciar."
   ]
  },
  {
   "cell_type": "markdown",
   "metadata": {},
   "source": [
    "#### 1. Parámetros Geográficos\n",
    "\n",
    "- $lat_i$: Latitud del nodo i\n",
    "- $long_i$: Longitud del nodo i"
   ]
  },
  {
   "cell_type": "markdown",
   "metadata": {},
   "source": [
    "#### 2. Red y Costos de Trayecto\n",
    "\n",
    "- $dist_{ij}$: Distancia en km entre el nodo $i$ y el nodo $j$, con $(i, j) ∈ A$\n",
    "\n",
    "- $PeajeBase_{ij}$: Tarifa base de peaje entre nodos $i$ y $j$ (COP).\n",
    "\n",
    "- $PeajeTon_{ij}$: Costo adicional por tonelada transportada (COP/ton) entre $i$ y $j$\n",
    "    - Si no aplica, se considera 0.\n",
    "\n",
    "- $F_t$: Tarifa de flete por km (COP/km) -> 5.000\n",
    "\n",
    "- $C_m$: Costo de mantenimiento por km (COP/km) -> 700"
   ]
  },
  {
   "cell_type": "markdown",
   "metadata": {},
   "source": [
    "#### 3. Estaciones de servicio\n",
    "\n",
    "Para cada estación $e ∈ E$:\n",
    "- $PrecioCombustible_e$: Precio de combustible en estación $e$ (COP/galón)"
   ]
  },
  {
   "cell_type": "markdown",
   "metadata": {},
   "source": [
    "#### 4. Vehículos\n",
    "\n",
    "Para cada vehículo $v ∈ V$:\n",
    "- $Capacidad_v$: Capacidad útil (ton)\n",
    "- $Autonomía_v$: Autonomía mpaxima (km)"
   ]
  },
  {
   "cell_type": "markdown",
   "metadata": {},
   "source": [
    "#### 5. Restricciones de Municipios\n",
    "\n",
    "Para cada destino $d ∈ D$:\n",
    "- $PesoMax_d$: Peso máximo permitido en el municipio $d$ (ton)\n",
    "    - Si no tiene restricción, puede tomarse como un valor muy alto o inf."
   ]
  },
  {
   "cell_type": "markdown",
   "metadata": {},
   "source": [
    "#### 6. Parámetros Derivados o Preprocesados\n",
    "Dependiendo del nivel de detalle del modelo, podríamos pensar en definir parámetros calculados como:\n",
    "- $CostoTotal_{ijv} = dist_{ij} * (F_t + C_m) + PeajeBase_{ij} + PeajeTon_{ij} * Capacidad_v$"
   ]
  },
  {
   "cell_type": "markdown",
   "metadata": {},
   "source": [
    "### Variables de Decisión\n",
    "Detalle de las variables principales y las auxiliares que permiten capturar el comportamiento esperado del sistema. Para facilitar el reconocimiento de variables, las agruparemos en cuatro grupos clave."
   ]
  },
  {
   "cell_type": "markdown",
   "metadata": {},
   "source": [
    "#### 1. Variables de Ruta\n",
    "Variables que nos indican si se utiliza un arco (trayecto) en una ruta para un vehículo determinado.\n",
    "\n",
    "$$\n",
    "x_{ij}^v ∈ \\text{{0,1}}\n",
    "$$\n",
    "\n",
    "$$ \n",
    "  x_{ij}^v =\n",
    "  \\begin{cases} \n",
    "  1 & \\text{si el vehículo } v ∈ V \\text{se desplaza del nodo $i$ al nodo $j$} \\\\ \n",
    "  0 & \\text{dlc.}\n",
    "  \\end{cases} \n",
    "$$\n",
    "\n",
    "$$\n",
    "  ∀ (i,j) ∈ A, v ∈ V\n",
    "$$\n"
   ]
  },
  {
   "cell_type": "markdown",
   "metadata": {},
   "source": [
    "#### 2. Variables de Carga Transportada\n",
    "Variables que permiten modelar el peso que transporta cada vehículo por cada arco:\n",
    "\n",
    "$$\n",
    "  w_{ij}^v ≥ 0\n",
    "$$\n",
    "\n",
    "- Toneladas de carga transportadas por el vehículo $v$ en el arco $(i,j)$.\n",
    "- Esto ayuda a validar restricciones de capacidad, peso en municipios, peajes variables por tonelada."
   ]
  },
  {
   "cell_type": "markdown",
   "metadata": {},
   "source": [
    "#### 3. Variables de Recarga\n",
    "Variables que permiten representar la \"estrategia\" de recarga de combustible.\n",
    "\n",
    "$$\n",
    "  r_{i}^v ≥ 0\n",
    "$$\n",
    "\n",
    "- Galones de combustible recargados por el vehículo $v$ en la estación $i ∈ E$.\n",
    "- Si el nodo no es una estación, entonces $r_{i}^v = 0$\n"
   ]
  },
  {
   "cell_type": "markdown",
   "metadata": {},
   "source": [
    "#### 4. Variables Auxiliares (para consumo y autonomía)\n",
    "Control del combustible disponible.\n",
    "\n",
    "$$\n",
    "  r_{i}^v ≥ 0\n",
    "$$\n",
    "\n",
    "- Cantidad de combustible (galones) disponibles en el tanque del vehículo $v$ al llegar al nodo $i$."
   ]
  },
  {
   "cell_type": "markdown",
   "metadata": {},
   "source": [
    "### Restricciones\n",
    "Restricciones necesarias para representar adecuadamente la realidad del problema. Se agruparán las restricciones para mayor calidad."
   ]
  },
  {
   "cell_type": "markdown",
   "metadata": {},
   "source": [
    "#### 1. Restricciones de Flujo\n",
    "Nos aseguramos de que cada vehículo tenga una ruta continua:"
   ]
  },
  {
   "cell_type": "markdown",
   "metadata": {},
   "source": [
    "- **Conservación en nodos intermedios (flujo balanceado)**:\n",
    "\n",
    "   $$\n",
    "   \\sum_{j:(j,i) ∈ A} x_{ij}^v = \\sum_{j:(i,j) ∈ A} x_{ij}^v \\quad \\forall i \\in N, v \\in V\n",
    "   $$"
   ]
  },
  {
   "cell_type": "markdown",
   "metadata": {},
   "source": [
    "- **Salida del punto de acceso**:\n",
    "\n",
    "   $$\n",
    "   \\sum_{j:(p,j) ∈ A} x_{pj}^v ≤ 1 \\quad \\forall p \\in P, v \\in V\n",
    "   $$\n"
   ]
  },
  {
   "cell_type": "markdown",
   "metadata": {},
   "source": [
    "- **Llegada a un destino**:\n",
    "\n",
    "   $$\n",
    "   \\sum_{j:(i,d) ∈ A} x_{id}^v ≤ 1 \\quad \\forall d \\in D, v \\in V\n",
    "   $$\n",
    "\n"
   ]
  },
  {
   "cell_type": "markdown",
   "metadata": {},
   "source": [
    "#### 2. Restricciones de Capacidad y Peso"
   ]
  },
  {
   "cell_type": "markdown",
   "metadata": {},
   "source": [
    "- **Límite de carga por vehículo**:\n",
    "\n",
    "   $$\n",
    "   \\sum_{(i,j) ∈ A} w_{ij}^v ≤ Capacidad_v \\quad \\forall v \\in V\n",
    "   $$\n"
   ]
  },
  {
   "cell_type": "markdown",
   "metadata": {},
   "source": [
    "- **Restricción de peso en municipios**:\n",
    "\n",
    "   $$\n",
    "   \\sum_{i:(i,d) ∈ A} w_{id}^v ≤ PesoMax_d \\quad \\forall d \\in (M ⊆ D), v \\in V\n",
    "   $$"
   ]
  },
  {
   "cell_type": "markdown",
   "metadata": {},
   "source": [
    "#### 3. Restricciones de Autonomía y Consumo"
   ]
  },
  {
   "cell_type": "markdown",
   "metadata": {},
   "source": [
    "- **Estado de combustible al llegar al nodo j**:\n",
    "\n",
    "   $$\n",
    "   f_{j}^v = f_{i}^v - Consumo_v * dist_{ij} + f_{j}^v \\quad \\forall (i,j) \\in A\n",
    "   $$"
   ]
  },
  {
   "cell_type": "markdown",
   "metadata": {},
   "source": [
    "- **Autonomía máxima del taque**:\n",
    "\n",
    "   $$\n",
    "   f_{i}^v = Autonomía_v \\quad \\forall i \\in N, v \\in V\n",
    "   $$"
   ]
  },
  {
   "cell_type": "markdown",
   "metadata": {},
   "source": [
    "- **No recarga si el nodo no estación**:\n",
    "\n",
    "   $$\n",
    "   r_{i}^v = 0 \\quad \\forall i \\notin E\n",
    "   $$"
   ]
  },
  {
   "cell_type": "markdown",
   "metadata": {},
   "source": [
    "#### 4. Cosotos de Peaje con peso\n",
    "OJO: Esto se puede incorporar directamente en la función objetivo como término de costo"
   ]
  },
  {
   "cell_type": "markdown",
   "metadata": {},
   "source": [
    "- **Si hay costo por tonelada**: \n",
    "   $$\n",
    "   Peaje_{ij}^v = PeajeBase_{ij} + PeajeTon_{ij} * w_{ij}^v\n",
    "   $$"
   ]
  },
  {
   "cell_type": "markdown",
   "metadata": {},
   "source": [
    "#### 5. Entrega Total de Carga\n",
    "(Si se conoce la demanda total a transportar. Toca preguntar pq no entendí esa parte o no leí bien, la dejo por si acaso).\n",
    "\n",
    "   $$\n",
    "   \\sum_{v ∈ V} \\sum_{i:(i,d) ∈ A} w_{id}^v = Demanda_d \\quad \\forall d \\in D\n",
    "   $$"
   ]
  },
  {
   "cell_type": "markdown",
   "metadata": {},
   "source": [
    "#### 6. Consistencia entre variables\n",
    "\n",
    "- **Solo puede haber carga o recarga si el arco (ruta) es usado**:\n",
    "\n",
    "   $$\n",
    "   w_{ij}^v ≤ Capacidad_{v} * x_{ij}^v , r_{i}^v ≤ R_{max} * \\sum_{j} x_{ij}^v\n",
    "   $$"
   ]
  },
  {
   "cell_type": "markdown",
   "metadata": {},
   "source": [
    "## Parte 2 - Función Objetivo y Proceso de indagación"
   ]
  },
  {
   "cell_type": "markdown",
   "metadata": {},
   "source": [
    "### Función objetivo \n",
    "Planteamiento explícito de la función a optimizar considerando posibles penalizaciones por incumplimiento de restricciones."
   ]
  },
  {
   "cell_type": "markdown",
   "metadata": {},
   "source": [
    "### Descripción del proceso de indagación\n",
    "Con el fin de definir y justificar la función objetivo, incluyendo la revisión de literatura y análisis comparativo con casos de estudio relevantes."
   ]
  },
  {
   "cell_type": "markdown",
   "metadata": {},
   "source": [
    "## Parte 3 - Preprocesamiento de Datos y Análisis"
   ]
  },
  {
   "cell_type": "markdown",
   "metadata": {},
   "source": [
    "### Procesos utilizados para extraer y procesar datos adicionales"
   ]
  },
  {
   "cell_type": "markdown",
   "metadata": {},
   "source": [
    "### Integración de la información en el modelo"
   ]
  },
  {
   "cell_type": "markdown",
   "metadata": {},
   "source": [
    "## Parte 4 - Ejemplos Ilustrativos"
   ]
  },
  {
   "cell_type": "markdown",
   "metadata": {},
   "source": [
    "### Casos de aplicación del modelo"
   ]
  },
  {
   "cell_type": "markdown",
   "metadata": {},
   "source": [
    "### Análisis de factibilidad y consistencia de la solución"
   ]
  },
  {
   "cell_type": "markdown",
   "metadata": {},
   "source": [
    "## Parte 5 - Justificación y Discusión"
   ]
  },
  {
   "cell_type": "markdown",
   "metadata": {},
   "source": [
    "### Justificación de los elementos del modelo"
   ]
  },
  {
   "cell_type": "markdown",
   "metadata": {},
   "source": [
    "### Discusión sobre relevancia de los datos, metodologías adoptadas y posibles impactos operativos"
   ]
  }
 ],
 "metadata": {
  "language_info": {
   "name": "python"
  }
 },
 "nbformat": 4,
 "nbformat_minor": 2
}
