{
  "cells": [
    {
      "cell_type": "markdown",
      "metadata": {
        "id": "L_98hr7B8Kno"
      },
      "source": [
        "# Modelado, Simulación y Optimización - Proyecto 1\n",
        "\n",
        "Amalia Cabonell - xxxxxx \\\n",
        "Santiago Arenas - 202220359 \\\n",
        "Santiago Casasbuenas - 202214932"
      ]
    },
    {
      "cell_type": "markdown",
      "metadata": {
        "id": "0FYS5Nde8Kn-"
      },
      "source": [
        "## Problema a resolver - Proyecto C\n",
        "\n",
        "**Objetivo:** El presente proyecto tiene como objetivo diseñar una estrategia integral de rutaspara el transporte de carga a nivel nacional, que permita minimizar los costos ope-rativos y de combustible. Se deberá garantizar la disponibilidad de recarga medianteestaciones de servicio estratégicamente ubicadas, a la vez que se respeta la restricciónde peso impuesta en cada municipio por razones de seguridad vial.\n"
      ]
    },
    {
      "cell_type": "markdown",
      "metadata": {
        "id": "LKmln6uM8KoG"
      },
      "source": [
        "## Parte 1 - Formulación Matemática Completa"
      ]
    },
    {
      "cell_type": "markdown",
      "metadata": {
        "id": "-RERVSqG8KoI"
      },
      "source": [
        "### Definición de conjuntos\n",
        "Se especificará de forma clara los conjuntos relevantes vinculados al problema."
      ]
    },
    {
      "cell_type": "markdown",
      "metadata": {
        "id": "21GcaqRo8KoJ"
      },
      "source": [
        "#### 1. Conjunto de Puntos de Acceso (Puertos)\n",
        "\n",
        "$P$: Conjunto de nodos origen donde se ingresan las mercancias.\n",
        "\n",
        "Ejemplo: $P = {p_1}$ donde $p_1 = $ Puerto Barranquilla"
      ]
    },
    {
      "cell_type": "markdown",
      "metadata": {
        "id": "O4fKTSF28KoK"
      },
      "source": [
        "#### 2. Conjunto de Destinos (Centros de Consumo)\n",
        "\n",
        "$D$: Conjunto de destinos finales o municipios consumidores.\n",
        "\n",
        "Ejemplo: $D = {d_1, d_2, d_3}$ donde:\n",
        "\n",
        "$d_1 = $ Bogotá\n",
        "\n",
        "$d_2 = $ Guasca\n",
        "\n",
        "$d_3 = $ Cogua"
      ]
    },
    {
      "cell_type": "markdown",
      "metadata": {
        "id": "k4FeJvl48KoP"
      },
      "source": [
        "#### 3. Conjunto de Estaciones de Servicio\n",
        "\n",
        "$E$: Conjunto de estaciones de recarga de combustibles disponibles en la red.\n",
        "\n",
        "Ejemplo: $E = {e_1, e_2, e_3}$ donde:\n",
        "\n",
        "$e_1 = $ Estación La Estrella\n",
        "\n",
        "$e_2 = $ Estación El Sol\n",
        "\n",
        "$e_3 = $ Estación Caribe"
      ]
    },
    {
      "cell_type": "markdown",
      "metadata": {
        "id": "iLZF40F-8KoU"
      },
      "source": [
        "#### 4. Conjunto de Vehículos\n",
        "\n",
        "$V$: Conjunto de vehículos disponibles para el transporte.\n",
        "\n",
        "Ejemplo: $V = {v_1, v_2, v_3}$ donde:\n",
        "\n",
        "$v_1 = $ Camión de 30 ton\n",
        "\n",
        "$v_2 = $ Camión de 25 ton\n",
        "\n",
        "$v_3 = $ Camión de 20 ton"
      ]
    },
    {
      "cell_type": "markdown",
      "metadata": {
        "id": "I-sA2QGX8KoX"
      },
      "source": [
        "#### 5. Conjunto de \"Arcos\" Posibles\n",
        "\n",
        "$A$: Conjunto de arcos entre nodos (puertos, estaciones, destinos) que representan posibles trayectos.\n",
        "\n",
        "- Cada arco $(i, j)$ indica que es posible moverse del nodo $i$ al nodo $j$.\n",
        "\n",
        "- Este conjunto se infiere del grafo de la red vial nacional y será determinado con base en la conectividad real y los peajes existentes."
      ]
    },
    {
      "cell_type": "markdown",
      "metadata": {
        "id": "tmJN2Lb58Koa"
      },
      "source": [
        "#### 6. Conjunto de Municipios con Restricción de Peso\n",
        "\n",
        "$M ⊆ D$: Subconjunto de destinos con restricción de peso para los vehículos.\n",
        "\n",
        "Ejemplo: $E = {d_2, d_3}$ donde Guasca y Cogua tienen límites de peso."
      ]
    },
    {
      "cell_type": "markdown",
      "metadata": {
        "id": "dQzJItbo8Koc"
      },
      "source": [
        "### Definición de Parámetros\n",
        "Lista de todas las constantes necesarias. Para este escenario, vamos a clasificar los parámetros en grupos de acuerdo con su tema, así serán más faciles de ubicar y diferenciar."
      ]
    },
    {
      "cell_type": "markdown",
      "metadata": {
        "id": "tqg6ye3L8Koe"
      },
      "source": [
        "#### 1. Parámetros Geográficos\n",
        "\n",
        "- $lat_i$: Latitud del nodo i\n",
        "- $long_i$: Longitud del nodo i"
      ]
    },
    {
      "cell_type": "markdown",
      "metadata": {
        "id": "YontT8898Kog"
      },
      "source": [
        "#### 2. Red y Costos de Trayecto\n",
        "\n",
        "- $dist_{ij}$: Distancia en km entre el nodo $i$ y el nodo $j$, con $(i, j) ∈ A$\n",
        "\n",
        "- $PeajeBase_{ij}$: Tarifa base de peaje entre nodos $i$ y $j$ (COP).\n",
        "\n",
        "- $PeajeTon_{ij}$: Costo adicional por tonelada transportada (COP/ton) entre $i$ y $j$\n",
        "    - Si no aplica, se considera 0.\n",
        "\n",
        "- $F_t$: Tarifa de flete por km (COP/km) -> 5.000\n",
        "\n",
        "- $C_m$: Costo de mantenimiento por km (COP/km) -> 700"
      ]
    },
    {
      "cell_type": "markdown",
      "metadata": {
        "id": "JaXRWQTg8Koi"
      },
      "source": [
        "#### 3. Estaciones de servicio\n",
        "\n",
        "Para cada estación $e ∈ E$:\n",
        "- $PrecioCombustible_e$: Precio de combustible en estación $e$ (COP/galón)"
      ]
    },
    {
      "cell_type": "markdown",
      "metadata": {
        "id": "Wjt6QD8z8Kok"
      },
      "source": [
        "#### 4. Vehículos\n",
        "\n",
        "Para cada vehículo $v ∈ V$:\n",
        "- $Capacidad_v$: Capacidad útil (ton)\n",
        "- $Autonomía_v$: Autonomía mpaxima (km)"
      ]
    },
    {
      "cell_type": "markdown",
      "metadata": {
        "id": "UzvlxlQ_8Kol"
      },
      "source": [
        "#### 5. Restricciones de Municipios\n",
        "\n",
        "Para cada destino $d ∈ D$:\n",
        "- $PesoMax_d$: Peso máximo permitido en el municipio $d$ (ton)\n",
        "    - Si no tiene restricción, puede tomarse como un valor muy alto o inf."
      ]
    },
    {
      "cell_type": "markdown",
      "metadata": {
        "id": "kIfeO3B98Kom"
      },
      "source": [
        "#### 6. Parámetros Derivados o Preprocesados\n",
        "Dependiendo del nivel de detalle del modelo, podríamos pensar en definir parámetros calculados como:\n",
        "- $CostoTotal_{ijv} = dist_{ij} * (F_t + C_m) + PeajeBase_{ij} + PeajeTon_{ij} * Capacidad_v$"
      ]
    },
    {
      "cell_type": "markdown",
      "metadata": {
        "id": "yxR_wihs8Kom"
      },
      "source": [
        "### Variables de Decisión\n",
        "Detalle de las variables principales y las auxiliares que permiten capturar el comportamiento esperado del sistema. Para facilitar el reconocimiento de variables, las agruparemos en cuatro grupos clave."
      ]
    },
    {
      "cell_type": "markdown",
      "metadata": {
        "id": "oz-fFY_y8Koo"
      },
      "source": [
        "#### 1. Variables de Ruta\n",
        "Variables que nos indican si se utiliza un arco (trayecto) en una ruta para un vehículo determinado.\n",
        "\n",
        "$$\n",
        "x_{ij}^v ∈ \\text{{0,1}}\n",
        "$$\n",
        "\n",
        "$$\n",
        "  x_{ij}^v =\n",
        "  \\begin{cases}\n",
        "  1 & \\text{si el vehículo } v ∈ V \\text{se desplaza del nodo $i$ al nodo $j$} \\\\\n",
        "  0 & \\text{dlc.}\n",
        "  \\end{cases}\n",
        "$$\n",
        "\n",
        "$$\n",
        "  ∀ (i,j) ∈ A, v ∈ V\n",
        "$$\n"
      ]
    },
    {
      "cell_type": "markdown",
      "metadata": {
        "id": "DvU-xA4_8Koq"
      },
      "source": [
        "#### 2. Variables de Carga Transportada\n",
        "Variables que permiten modelar el peso que transporta cada vehículo por cada arco:\n",
        "\n",
        "$$\n",
        "  w_{ij}^v ≥ 0\n",
        "$$\n",
        "\n",
        "- Toneladas de carga transportadas por el vehículo $v$ en el arco $(i,j)$.\n",
        "- Esto ayuda a validar restricciones de capacidad, peso en municipios, peajes variables por tonelada."
      ]
    },
    {
      "cell_type": "markdown",
      "metadata": {
        "id": "zEi1ZlYT8Kor"
      },
      "source": [
        "#### 3. Variables de Recarga\n",
        "Variables que permiten representar la \"estrategia\" de recarga de combustible.\n",
        "\n",
        "$$\n",
        "  r_{i}^v ≥ 0\n",
        "$$\n",
        "\n",
        "- Galones de combustible recargados por el vehículo $v$ en la estación $i ∈ E$.\n",
        "- Si el nodo no es una estación, entonces $r_{i}^v = 0$\n"
      ]
    },
    {
      "cell_type": "markdown",
      "metadata": {
        "id": "-B60SqKH8Kos"
      },
      "source": [
        "#### 4. Variables Auxiliares (para consumo y autonomía)\n",
        "Control del combustible disponible.\n",
        "\n",
        "$$\n",
        "  r_{i}^v ≥ 0\n",
        "$$\n",
        "\n",
        "- Cantidad de combustible (galones) disponibles en el tanque del vehículo $v$ al llegar al nodo $i$."
      ]
    },
    {
      "cell_type": "markdown",
      "metadata": {
        "id": "nstSKSIP8Kot"
      },
      "source": [
        "### Restricciones\n",
        "Restricciones necesarias para representar adecuadamente la realidad del problema. Se agruparán las restricciones para mayor calidad."
      ]
    },
    {
      "cell_type": "markdown",
      "metadata": {
        "id": "V5KPnEtv8Kot"
      },
      "source": [
        "#### 1. Restricciones de Flujo\n",
        "Nos aseguramos de que cada vehículo tenga una ruta continua:"
      ]
    },
    {
      "cell_type": "markdown",
      "metadata": {
        "id": "_NyTawzu8Kou"
      },
      "source": [
        "- **Conservación en nodos intermedios (flujo balanceado)**:\n",
        "\n",
        "   $$\n",
        "   \\sum_{j:(j,i) ∈ A} x_{ij}^v = \\sum_{j:(i,j) ∈ A} x_{ij}^v \\quad \\forall i \\in N, v \\in V\n",
        "   $$"
      ]
    },
    {
      "cell_type": "markdown",
      "metadata": {
        "id": "LmnH8Yyw8Kov"
      },
      "source": [
        "- **Salida del punto de acceso**:\n",
        "\n",
        "   $$\n",
        "   \\sum_{j:(p,j) ∈ A} x_{pj}^v ≤ 1 \\quad \\forall p \\in P, v \\in V\n",
        "   $$\n"
      ]
    },
    {
      "cell_type": "markdown",
      "metadata": {
        "id": "Qnru5gp88Kov"
      },
      "source": [
        "- **Llegada a un destino**:\n",
        "\n",
        "   $$\n",
        "   \\sum_{j:(i,d) ∈ A} x_{id}^v ≤ 1 \\quad \\forall d \\in D, v \\in V\n",
        "   $$\n",
        "\n"
      ]
    },
    {
      "cell_type": "markdown",
      "metadata": {
        "id": "Lj-yOXLp8Kow"
      },
      "source": [
        "#### 2. Restricciones de Capacidad y Peso"
      ]
    },
    {
      "cell_type": "markdown",
      "metadata": {
        "id": "5g08hfU_8Koy"
      },
      "source": [
        "- **Límite de carga por vehículo**:\n",
        "\n",
        "   $$\n",
        "   \\sum_{(i,j) ∈ A} w_{ij}^v ≤ Capacidad_v \\quad \\forall v \\in V\n",
        "   $$\n"
      ]
    },
    {
      "cell_type": "markdown",
      "metadata": {
        "id": "WkT87TcP8Koz"
      },
      "source": [
        "- **Restricción de peso en municipios**:\n",
        "\n",
        "   $$\n",
        "   \\sum_{i:(i,d) ∈ A} w_{id}^v ≤ PesoMax_d \\quad \\forall d \\in (M ⊆ D), v \\in V\n",
        "   $$"
      ]
    },
    {
      "cell_type": "markdown",
      "metadata": {
        "id": "4XqWXGN58Ko0"
      },
      "source": [
        "#### 3. Restricciones de Autonomía y Consumo"
      ]
    },
    {
      "cell_type": "markdown",
      "metadata": {
        "id": "t2Zi6R8L8KpA"
      },
      "source": [
        "- **Estado de combustible al llegar al nodo j**:\n",
        "\n",
        "   $$\n",
        "   f_{j}^v = f_{i}^v - Consumo_v * dist_{ij} + f_{j}^v \\quad \\forall (i,j) \\in A\n",
        "   $$"
      ]
    },
    {
      "cell_type": "markdown",
      "metadata": {
        "id": "3GTRUxvf8KpC"
      },
      "source": [
        "- **Autonomía máxima del taque**:\n",
        "\n",
        "   $$\n",
        "   f_{i}^v = Autonomía_v \\quad \\forall i \\in N, v \\in V\n",
        "   $$"
      ]
    },
    {
      "cell_type": "markdown",
      "metadata": {
        "id": "iZow51pe8KpD"
      },
      "source": [
        "- **No recarga si el nodo no estación**:\n",
        "\n",
        "   $$\n",
        "   r_{i}^v = 0 \\quad \\forall i \\notin E\n",
        "   $$"
      ]
    },
    {
      "cell_type": "markdown",
      "metadata": {
        "id": "wSMKqmZl8KpE"
      },
      "source": [
        "#### 4. Cosotos de Peaje con peso\n",
        "OJO: Esto se puede incorporar directamente en la función objetivo como término de costo"
      ]
    },
    {
      "cell_type": "markdown",
      "metadata": {
        "id": "BH5nyxDq8KpE"
      },
      "source": [
        "- **Si hay costo por tonelada**:\n",
        "   $$\n",
        "   Peaje_{ij}^v = PeajeBase_{ij} + PeajeTon_{ij} * w_{ij}^v\n",
        "   $$"
      ]
    },
    {
      "cell_type": "markdown",
      "metadata": {
        "id": "chnlkr3N8KpF"
      },
      "source": [
        "#### 5. Entrega Total de Carga\n",
        "(Si se conoce la demanda total a transportar. Toca preguntar pq no entendí esa parte o no leí bien, la dejo por si acaso).\n",
        "\n",
        "   $$\n",
        "   \\sum_{v ∈ V} \\sum_{i:(i,d) ∈ A} w_{id}^v = Demanda_d \\quad \\forall d \\in D\n",
        "   $$"
      ]
    },
    {
      "cell_type": "markdown",
      "metadata": {
        "id": "5NC5AAp88KpG"
      },
      "source": [
        "#### 6. Consistencia entre variables\n",
        "\n",
        "- **Solo puede haber carga o recarga si el arco (ruta) es usado**:\n",
        "\n",
        "   $$\n",
        "   w_{ij}^v ≤ Capacidad_{v} * x_{ij}^v , r_{i}^v ≤ R_{max} * \\sum_{j} x_{ij}^v\n",
        "   $$"
      ]
    },
    {
      "cell_type": "markdown",
      "metadata": {
        "id": "Z3KIbM3Z8KpL"
      },
      "source": [
        "## Parte 2 - Función Objetivo y Proceso de indagación"
      ]
    },
    {
      "cell_type": "markdown",
      "metadata": {
        "id": "NZO8Yssu8Kpn"
      },
      "source": [
        "### Función objetivo\n",
        "Planteamiento explícito de la función a optimizar considerando posibles penalizaciones por incumplimiento de restricciones."
      ]
    },
    {
      "cell_type": "markdown",
      "source": [
        "$$∑\\limits_{v∈V}∑\\limits_{i∈N} ∑\\limits_{j∈N} x_{ij}^v*CostoTotal_{ijv}$$"
      ],
      "metadata": {
        "id": "KYmbIfVnwpNN"
      }
    },
    {
      "cell_type": "markdown",
      "metadata": {
        "id": "pEDxbz1A8Kpo"
      },
      "source": [
        "### Descripción del proceso de indagación\n",
        "Con el fin de definir y justificar la función objetivo, incluyendo la revisión de literatura y análisis comparativo con casos de estudio relevantes."
      ]
    },
    {
      "cell_type": "markdown",
      "source": [
        "Para la empresa LogistiCo: National Logistics Division lo mas importante es la optimizacion de costos ya que no su objetivo no es la velocidad de entrega si no la completa garantia de que los paquetes van a llegar a su destino de forma optima para la compañia."
      ],
      "metadata": {
        "id": "bvVZ_4NO5PPn"
      }
    },
    {
      "cell_type": "markdown",
      "metadata": {
        "id": "v0i9tpcd8Kpp"
      },
      "source": [
        "## Parte 3 - Preprocesamiento de Datos y Análisis"
      ]
    },
    {
      "cell_type": "markdown",
      "metadata": {
        "id": "YmjuoP7U8Kpq"
      },
      "source": [
        "### Procesos utilizados para extraer y procesar datos adicionales"
      ]
    },
    {
      "cell_type": "markdown",
      "source": [
        "Extraemos todas las coordenadas de los lugares a visitar"
      ],
      "metadata": {
        "id": "HslwMO37ReJ9"
      }
    },
    {
      "cell_type": "code",
      "source": [
        "from geopy.geocoders import Nominatim\n",
        "\n",
        "puerto_barraquilla = [-74.7964,10.9639] #Coordenadas Barranquilla\n",
        "puntos_acesso = [puerto_barraquilla]\n",
        "\n",
        "\n",
        "geolocator = Nominatim(user_agent=\"MyApp\")\n",
        "centros_consumo = []\n",
        "bogota = geolocator.geocode(\"Bogota\") #Usamos geopy para obtener coordenadas de centros de consumo\n",
        "bogota = [bogota.longitude,bogota.latitude]\n",
        "guasca = geolocator.geocode(\"Guasca\")\n",
        "guasca = [guasca.longitude, guasca.latitude]\n",
        "cogua = geolocator.geocode(\"Cogua\")\n",
        "cogua = [cogua.longitude, cogua.latitude]\n",
        "centros_consumo.extend([bogota, guasca, cogua])\n",
        "\n",
        "#estaciones_servicio = [[-74.5000,12.000],[74.2000, 10.8000],[-75.0000, 10.5000]] #Las que estan en el documento no son lugares a los que se puede llegar en carro asi que se aproximo a eds mas cercana en la vida real\n",
        "estaciones_servicio = [[-74.28409651016692,11.005912925098826],[-74.16238561225475,10.649143797497034],[-74.82508479065856,10.492299407024618, ]]\n",
        "\n",
        "# Si se tuviera un csv de varios datos se cargaria adecuadamente aqui se hace para ejercicio pequeño\n",
        "coordinates = puntos_acesso + centros_consumo + estaciones_servicio\n",
        "place_names = ['Puerto Barranquilla','Bogotá', 'Guasca', 'Cogua', 'Estación La Estrella', 'Estación El Sol', 'Estación Caribe']\n",
        "\n",
        "print(coordinates)"
      ],
      "metadata": {
        "colab": {
          "base_uri": "https://localhost:8080/"
        },
        "id": "nW6TxxNH8PSq",
        "outputId": "823e4097-91c4-4151-8a11-da33f88f3fef"
      },
      "execution_count": 1,
      "outputs": [
        {
          "output_type": "stream",
          "name": "stderr",
          "text": [
            "WARNING:urllib3.connectionpool:Retrying (Retry(total=1, connect=None, read=None, redirect=None, status=None)) after connection broken by 'ReadTimeoutError(\"HTTPSConnectionPool(host='nominatim.openstreetmap.org', port=443): Read timed out. (read timeout=1)\")': /search?q=Bogota&format=json&limit=1\n",
            "WARNING:urllib3.connectionpool:Retrying (Retry(total=1, connect=None, read=None, redirect=None, status=None)) after connection broken by 'ReadTimeoutError(\"HTTPSConnectionPool(host='nominatim.openstreetmap.org', port=443): Read timed out. (read timeout=1)\")': /search?q=Cogua&format=json&limit=1\n",
            "WARNING:urllib3.connectionpool:Retrying (Retry(total=0, connect=None, read=None, redirect=None, status=None)) after connection broken by 'ReadTimeoutError(\"HTTPSConnectionPool(host='nominatim.openstreetmap.org', port=443): Read timed out. (read timeout=1)\")': /search?q=Cogua&format=json&limit=1\n"
          ]
        },
        {
          "output_type": "stream",
          "name": "stdout",
          "text": [
            "[[-74.7964, 10.9639], [-74.0836333, 4.6533816], [-73.8776944, 4.8664391], [-73.9599328011159, 5.10852035], [-74.28409651016692, 11.005912925098826], [-74.16238561225475, 10.649143797497034], [-74.82508479065856, 10.492299407024618]]\n"
          ]
        }
      ]
    },
    {
      "cell_type": "markdown",
      "source": [
        "**TODO Escribir api_key**"
      ],
      "metadata": {
        "id": "JTZcUH9LRZRN"
      }
    },
    {
      "cell_type": "code",
      "source": [
        "#api_key ="
      ],
      "metadata": {
        "id": "L0FrwEmdRVxr"
      },
      "execution_count": 3,
      "outputs": []
    },
    {
      "cell_type": "markdown",
      "source": [
        "Utilizamos API de open route service para tener la matriz de distancias entre puntos de interes"
      ],
      "metadata": {
        "id": "-kNnsCmzRlff"
      }
    },
    {
      "cell_type": "code",
      "source": [
        "import requests\n",
        "import json\n",
        "\n",
        "def get_distance_matrix(coordinates, api_key):\n",
        "    \"\"\"\n",
        "    Retrieve distance matrix from OpenRouteService API\n",
        "\n",
        "    Parameters:\n",
        "    - coordinates: List of [longitude, latitude] coordinates\n",
        "    - api_key: Your OpenRouteService API key\n",
        "\n",
        "    Returns:\n",
        "    - Distance matrix as a 2D list\n",
        "    \"\"\"\n",
        "    # OpenRouteService matrix service endpoint\n",
        "    url = \"https://api.openrouteservice.org/v2/matrix/driving-car\"\n",
        "\n",
        "    # Prepare the request payload\n",
        "    payload = {\n",
        "        \"locations\": coordinates,\n",
        "        \"metrics\": [\"distance\",\"duration\"],  # You can also use \"duration\"\n",
        "        \"units\": \"km\"  # Optional: specify units\n",
        "    }\n",
        "\n",
        "    # Headers including your API key\n",
        "    headers = {\n",
        "        'Accept': 'application/json, application/geo+json, application/gpx+xml, img/png; charset=utf-8',\n",
        "        'Content-Type': 'application/json; charset=utf-8',\n",
        "        'Authorization': api_key\n",
        "    }\n",
        "\n",
        "    try:\n",
        "        # Make the POST request to the API\n",
        "        response = requests.post(url, json=payload, headers=headers)\n",
        "\n",
        "        # Check if the request was successful\n",
        "        response.raise_for_status()\n",
        "\n",
        "        # Parse the JSON response\n",
        "        matrix_data = response.json()\n",
        "\n",
        "        # Extract the distance matrix\n",
        "        distance_matrix = matrix_data.get('distances', [])\n",
        "        duration_matrix = matrix_data.get('durations', [])\n",
        "\n",
        "        return distance_matrix, duration_matrix\n",
        "\n",
        "    except requests.exceptions.RequestException as e:\n",
        "        print(f\"Error making request to OpenRouteService: {e}\")\n",
        "        return None\n",
        "\n",
        "\n",
        "# Get the distance matrix\n",
        "distance_matrix, duration_matrix = get_distance_matrix(coordinates, api_key)\n",
        "\n"
      ],
      "metadata": {
        "id": "IqX-RIpTGh-6"
      },
      "execution_count": 4,
      "outputs": []
    },
    {
      "cell_type": "markdown",
      "source": [
        "Imprimimos tabla de distancias"
      ],
      "metadata": {
        "id": "umcDXMkkRvgl"
      }
    },
    {
      "cell_type": "code",
      "source": [
        "from tabulate import tabulate\n",
        "\n",
        "table_data = []\n",
        "for i, row in enumerate(distance_matrix):\n",
        "    # Create a row with place name as first column, followed by distances\n",
        "    table_row = [place_names[i]] + [round(dist, 2) for dist in row]\n",
        "    table_data.append(table_row)\n",
        "\n",
        "# Print the table\n",
        "print(\"Distance Matrix (kilometers):\")\n",
        "print(tabulate(\n",
        "    table_data,\n",
        "    headers=['From/To'] + place_names,\n",
        "    tablefmt='pretty'\n",
        "))"
      ],
      "metadata": {
        "colab": {
          "base_uri": "https://localhost:8080/"
        },
        "id": "29fFoDUtNHjo",
        "outputId": "84d7ac58-690b-4c7c-e21a-41fc435b2357"
      },
      "execution_count": 5,
      "outputs": [
        {
          "output_type": "stream",
          "name": "stdout",
          "text": [
            "Distance Matrix (kilometers):\n",
            "+----------------------+---------------------+---------+--------+--------+----------------------+-----------------+-----------------+\n",
            "|       From/To        | Puerto Barranquilla | Bogotá  | Guasca | Cogua  | Estación La Estrella | Estación El Sol | Estación Caribe |\n",
            "+----------------------+---------------------+---------+--------+--------+----------------------+-----------------+-----------------+\n",
            "| Puerto Barranquilla  |         0.0         | 990.92  | 955.45 | 935.42 |        63.38         |     116.91      |      58.92      |\n",
            "|        Bogotá        |       985.63        |   0.0   | 47.59  | 61.88  |        922.85        |     867.66      |     1017.3      |\n",
            "|        Guasca        |       964.07        |  48.08  |  0.0   | 40.31  |        901.29        |      846.1      |     995.74      |\n",
            "|        Cogua         |       935.73        |  60.55  | 39.83  |  0.0   |        872.95        |     817.76      |      967.4      |\n",
            "| Estación La Estrella |        63.69        | 928.45  | 892.98 | 872.95 |         0.0          |      54.44      |     115.73      |\n",
            "|   Estación El Sol    |       118.01        | 874.05  | 838.58 | 818.55 |        55.23         |       0.0       |     170.04      |\n",
            "|   Estación Caribe    |        59.36        | 1021.74 | 986.27 | 966.24 |        115.36        |     168.89      |       0.0       |\n",
            "+----------------------+---------------------+---------+--------+--------+----------------------+-----------------+-----------------+\n"
          ]
        }
      ]
    },
    {
      "cell_type": "code",
      "source": [
        "\n",
        "# Imprimimos tabla de duraciones\n",
        "\n",
        "table_data = []\n",
        "for i, row in enumerate(duration_matrix):\n",
        "    # Create a row with place name as first column, followed by durations\n",
        "    table_row = [place_names[i]] + [round(duration/3600, 2) for duration in row]\n",
        "    table_data.append(table_row)\n",
        "\n",
        "# Print the table\n",
        "print(\"Duration Matrix (hours):\")\n",
        "print(tabulate(\n",
        "    table_data,\n",
        "    headers=['From/To'] + place_names,\n",
        "    tablefmt='pretty'\n",
        "))\n"
      ],
      "metadata": {
        "colab": {
          "base_uri": "https://localhost:8080/"
        },
        "id": "2f0MD3v3vgkE",
        "outputId": "6292e64e-f432-46fa-e189-fe644192d454"
      },
      "execution_count": 9,
      "outputs": [
        {
          "output_type": "stream",
          "name": "stdout",
          "text": [
            "Duration Matrix (hours):\n",
            "+----------------------+---------------------+--------+--------+-------+----------------------+-----------------+-----------------+\n",
            "|       From/To        | Puerto Barranquilla | Bogotá | Guasca | Cogua | Estación La Estrella | Estación El Sol | Estación Caribe |\n",
            "+----------------------+---------------------+--------+--------+-------+----------------------+-----------------+-----------------+\n",
            "| Puerto Barranquilla  |         0.0         | 13.04  | 12.78  | 12.15 |         0.85         |      1.46       |      0.99       |\n",
            "|        Bogotá        |        12.96        |  0.0   |  1.01  | 1.18  |        12.16         |      11.48      |      13.37      |\n",
            "|        Guasca        |        12.75        |  1.09  |  0.0   | 0.96  |        11.95         |      11.27      |      13.16      |\n",
            "|        Cogua         |        12.14        |  1.36  |  1.04  |  0.0  |        11.33         |      10.66      |      12.55      |\n",
            "| Estación La Estrella |        0.86         | 12.25  |  12.0  | 11.36 |         0.0          |      0.67       |      1.71       |\n",
            "|   Estación El Sol    |        1.48         | 11.59  | 11.33  | 10.7  |         0.68         |       0.0       |      2.33       |\n",
            "|   Estación Caribe    |        0.96         | 13.48  | 13.22  | 12.59 |         1.64         |      2.25       |       0.0       |\n",
            "+----------------------+---------------------+--------+--------+-------+----------------------+-----------------+-----------------+\n"
          ]
        }
      ]
    },
    {
      "cell_type": "markdown",
      "metadata": {
        "id": "IWpmNi8h8Kpr"
      },
      "source": [
        "### Integración de la información en el modelo"
      ]
    },
    {
      "cell_type": "markdown",
      "source": [
        "Esta informacion hace parte integral del modelo pues es la matriz $dist_{ij}$ que representa la distancia a recorrer entre el nodo $i$ y el nodo $j$"
      ],
      "metadata": {
        "id": "ux2ZHAYASCmr"
      }
    },
    {
      "cell_type": "markdown",
      "metadata": {
        "id": "EGPu-XLS8Kpr"
      },
      "source": [
        "## Parte 4 - Ejemplos Ilustrativos"
      ]
    },
    {
      "cell_type": "markdown",
      "metadata": {
        "id": "LXmpS7bL8Kps"
      },
      "source": [
        "### Casos de aplicación del modelo"
      ]
    },
    {
      "cell_type": "markdown",
      "metadata": {
        "id": "Thdjs9Y-8Kpt"
      },
      "source": [
        "### Análisis de factibilidad y consistencia de la solución"
      ]
    },
    {
      "cell_type": "markdown",
      "metadata": {
        "id": "igosKEAU8Kpu"
      },
      "source": [
        "## Parte 5 - Justificación y Discusión"
      ]
    },
    {
      "cell_type": "markdown",
      "metadata": {
        "id": "Ksk5vjJF8Kpv"
      },
      "source": [
        "### Justificación de los elementos del modelo"
      ]
    },
    {
      "cell_type": "markdown",
      "metadata": {
        "id": "Olu3_y6V8Kpw"
      },
      "source": [
        "### Discusión sobre relevancia de los datos, metodologías adoptadas y posibles impactos operativos"
      ]
    }
  ],
  "metadata": {
    "language_info": {
      "name": "python"
    },
    "colab": {
      "provenance": []
    },
    "kernelspec": {
      "name": "python3",
      "display_name": "Python 3"
    }
  },
  "nbformat": 4,
  "nbformat_minor": 0
}