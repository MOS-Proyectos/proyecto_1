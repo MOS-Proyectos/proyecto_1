{
  "cells": [
    {
      "cell_type": "markdown",
      "metadata": {
        "id": "L_98hr7B8Kno"
      },
      "source": [
        "# Modelado, Simulación y Optimización - Proyecto 1\n",
        "\n",
        "Amalia Cabonell - 202122079 \\\n",
        "Santiago Arenas - 202220359 \\\n",
        "Santiago Casasbuenas - 202214932"
      ]
    },
    {
      "cell_type": "markdown",
      "metadata": {
        "id": "0FYS5Nde8Kn-"
      },
      "source": [
        "## Problema a resolver - Proyecto C\n",
        "\n",
        "**Objetivo:** El presente proyecto tiene como objetivo diseñar una estrategia integral de rutaspara el transporte de carga a nivel nacional, que permita minimizar los costos ope-rativos y de combustible. Se deberá garantizar la disponibilidad de recarga medianteestaciones de servicio estratégicamente ubicadas, a la vez que se respeta la restricciónde peso impuesta en cada municipio por razones de seguridad vial.\n"
      ]
    },
    {
      "cell_type": "markdown",
      "metadata": {
        "id": "LKmln6uM8KoG"
      },
      "source": [
        "## Parte 1 - Formulación Matemática Completa"
      ]
    },
    {
      "cell_type": "markdown",
      "metadata": {
        "id": "-RERVSqG8KoI"
      },
      "source": [
        "### Definición de conjuntos\n",
        "Se especificará de forma clara los conjuntos relevantes vinculados al problema."
      ]
    },
    {
      "cell_type": "markdown",
      "metadata": {
        "id": "21GcaqRo8KoJ"
      },
      "source": [
        "#### 1. Conjunto de Puntos de Acceso (Puertos)\n",
        "\n",
        "$P$: Conjunto de nodos origen donde se ingresan las mercancias.\n",
        "\n",
        "Ejemplo: $P = {p_1}$ donde $p_1 = $ Puerto Barranquilla"
      ]
    },
    {
      "cell_type": "markdown",
      "metadata": {
        "id": "O4fKTSF28KoK"
      },
      "source": [
        "#### 2. Conjunto de Destinos (Centros de Consumo)\n",
        "\n",
        "$D$: Conjunto de destinos finales o municipios consumidores.\n",
        "\n",
        "Ejemplo: $D = {d_1, d_2, d_3}$ donde:\n",
        "\n",
        "$d_1 = $ Bogotá\n",
        "\n",
        "$d_2 = $ Guasca\n",
        "\n",
        "$d_3 = $ Cogua"
      ]
    },
    {
      "cell_type": "markdown",
      "metadata": {
        "id": "k4FeJvl48KoP"
      },
      "source": [
        "#### 3. Conjunto de Estaciones de Servicio\n",
        "\n",
        "$E$: Conjunto de estaciones de recarga de combustibles disponibles en la red.\n",
        "\n",
        "Ejemplo: $E = {e_1, e_2, e_3}$ donde:\n",
        "\n",
        "$e_1 = $ Estación La Estrella\n",
        "\n",
        "$e_2 = $ Estación El Sol\n",
        "\n",
        "$e_3 = $ Estación Caribe"
      ]
    },
    {
      "cell_type": "markdown",
      "metadata": {
        "id": "iLZF40F-8KoU"
      },
      "source": [
        "#### 4. Conjunto de Vehículos\n",
        "\n",
        "$V$: Conjunto de vehículos disponibles para el transporte.\n",
        "\n",
        "Ejemplo: $V = {v_1, v_2, v_3}$ donde:\n",
        "\n",
        "$v_1 = $ Camión de 30 ton\n",
        "\n",
        "$v_2 = $ Camión de 25 ton\n",
        "\n",
        "$v_3 = $ Camión de 20 ton"
      ]
    },
    {
      "cell_type": "markdown",
      "metadata": {
        "id": "I-sA2QGX8KoX"
      },
      "source": [
        "#### 5. Conjunto de \"Arcos\" Posibles\n",
        "\n",
        "$A$: Conjunto de arcos entre nodos (puertos, estaciones, destinos) que representan posibles trayectos.\n",
        "\n",
        "- Cada arco $(i, j)$ indica que es posible moverse del nodo $i$ al nodo $j$.\n",
        "\n",
        "- Este conjunto se infiere del grafo de la red vial nacional y será determinado con base en la conectividad real y los peajes existentes."
      ]
    },
    {
      "cell_type": "markdown",
      "metadata": {
        "id": "tmJN2Lb58Koa"
      },
      "source": [
        "#### 6. Conjunto de Municipios con Restricción de Peso\n",
        "\n",
        "$M ⊆ D$: Subconjunto de destinos con restricción de peso para los vehículos.\n",
        "\n",
        "Ejemplo: $E = {d_2, d_3}$ donde Guasca y Cogua tienen límites de peso."
      ]
    },
    {
      "cell_type": "markdown",
      "metadata": {
        "id": "dQzJItbo8Koc"
      },
      "source": [
        "### Definición de Parámetros\n",
        "Lista de todas las constantes necesarias. Para este escenario, vamos a clasificar los parámetros en grupos de acuerdo con su tema, así serán más faciles de ubicar y diferenciar."
      ]
    },
    {
      "cell_type": "markdown",
      "metadata": {
        "id": "tqg6ye3L8Koe"
      },
      "source": [
        "#### 1. Parámetros Geográficos\n",
        "\n",
        "- $lat_i$: Latitud del nodo i\n",
        "- $long_i$: Longitud del nodo i"
      ]
    },
    {
      "cell_type": "markdown",
      "metadata": {
        "id": "YontT8898Kog"
      },
      "source": [
        "#### 2. Red y Costos de Trayecto\n",
        "\n",
        "- $dist_{ij}$: Distancia en km entre el nodo $i$ y el nodo $j$, con $(i, j) ∈ A$\n",
        "\n",
        "- $PeajeBase_{ij}$: Tarifa base de peaje entre nodos $i$ y $j$ (COP).\n",
        "\n",
        "- $PeajeTon_{ij}$: Costo adicional por tonelada transportada (COP/ton) entre $i$ y $j$\n",
        "    - Si no aplica, se considera 0.\n",
        "\n",
        "- $F_t$: Tarifa de flete por km (COP/km) -> 5.000\n",
        "\n",
        "- $C_m$: Costo de mantenimiento por km (COP/km) -> 700"
      ]
    },
    {
      "cell_type": "markdown",
      "metadata": {
        "id": "JaXRWQTg8Koi"
      },
      "source": [
        "#### 3. Estaciones de servicio\n",
        "\n",
        "Para cada estación $e ∈ E$:\n",
        "- $PrecioCombustible_e$: Precio de combustible en estación $e$ (COP/galón)"
      ]
    },
    {
      "cell_type": "markdown",
      "metadata": {
        "id": "Wjt6QD8z8Kok"
      },
      "source": [
        "#### 4. Vehículos\n",
        "\n",
        "Para cada vehículo $v ∈ V$:\n",
        "- $Capacidad_v$: Capacidad útil (ton)\n",
        "- $Autonomía_v$: Autonomía mpaxima (km)"
      ]
    },
    {
      "cell_type": "markdown",
      "metadata": {
        "id": "UzvlxlQ_8Kol"
      },
      "source": [
        "#### 5. Restricciones de Municipios\n",
        "\n",
        "Para cada destino $d ∈ D$:\n",
        "- $PesoMax_d$: Peso máximo permitido en el municipio $d$ (ton)\n",
        "    - Si no tiene restricción, puede tomarse como un valor muy alto o inf."
      ]
    },
    {
      "cell_type": "markdown",
      "metadata": {
        "id": "kIfeO3B98Kom"
      },
      "source": [
        "#### 6. Parámetros Derivados o Preprocesados\n",
        "Dependiendo del nivel de detalle del modelo, podríamos pensar en definir parámetros calculados como:\n",
        "- $CostoTotal_{ijv} = dist_{ij} * (F_t + C_m) + PeajeBase_{ij} + PeajeTon_{ij} * Capacidad_v$"
      ]
    },
    {
      "cell_type": "markdown",
      "metadata": {
        "id": "yxR_wihs8Kom"
      },
      "source": [
        "### Variables de Decisión\n",
        "Detalle de las variables principales y las auxiliares que permiten capturar el comportamiento esperado del sistema. Para facilitar el reconocimiento de variables, las agruparemos en cuatro grupos clave."
      ]
    },
    {
      "cell_type": "markdown",
      "metadata": {
        "id": "oz-fFY_y8Koo"
      },
      "source": [
        "#### 1. Variables de Ruta\n",
        "Variables que nos indican si se utiliza un arco (trayecto) en una ruta para un vehículo determinado.\n",
        "\n",
        "$$\n",
        "x_{ij}^v ∈ \\text{{0,1}}\n",
        "$$\n",
        "\n",
        "$$\n",
        "  x_{ij}^v =\n",
        "  \\begin{cases}\n",
        "  1 & \\text{si el vehículo } v ∈ V \\text{se desplaza del nodo $i$ al nodo $j$} \\\\\n",
        "  0 & \\text{dlc.}\n",
        "  \\end{cases}\n",
        "$$\n",
        "\n",
        "$$\n",
        "  ∀ (i,j) ∈ A, v ∈ V\n",
        "$$\n"
      ]
    },
    {
      "cell_type": "markdown",
      "metadata": {
        "id": "DvU-xA4_8Koq"
      },
      "source": [
        "#### 2. Variables de Carga Transportada\n",
        "Variables que permiten modelar el peso que transporta cada vehículo por cada arco:\n",
        "\n",
        "$$\n",
        "  w_{ij}^v ≥ 0\n",
        "$$\n",
        "\n",
        "- Toneladas de carga transportadas por el vehículo $v$ en el arco $(i,j)$.\n",
        "- Esto ayuda a validar restricciones de capacidad, peso en municipios, peajes variables por tonelada."
      ]
    },
    {
      "cell_type": "markdown",
      "metadata": {
        "id": "zEi1ZlYT8Kor"
      },
      "source": [
        "#### 3. Variables de Recarga\n",
        "Variables que permiten representar la \"estrategia\" de recarga de combustible.\n",
        "\n",
        "$$\n",
        "  r_{i}^v ≥ 0\n",
        "$$\n",
        "\n",
        "- Galones de combustible recargados por el vehículo $v$ en la estación $i ∈ E$.\n",
        "- Si el nodo no es una estación, entonces $r_{i}^v = 0$\n"
      ]
    },
    {
      "cell_type": "markdown",
      "metadata": {
        "id": "-B60SqKH8Kos"
      },
      "source": [
        "#### 4. Variables Auxiliares (para consumo y autonomía)\n",
        "Control del combustible disponible.\n",
        "\n",
        "$$\n",
        "  r_{i}^v ≥ 0\n",
        "$$\n",
        "\n",
        "- Cantidad de combustible (galones) disponibles en el tanque del vehículo $v$ al llegar al nodo $i$."
      ]
    },
    {
      "cell_type": "markdown",
      "metadata": {
        "id": "nstSKSIP8Kot"
      },
      "source": [
        "### Restricciones\n",
        "Restricciones necesarias para representar adecuadamente la realidad del problema. Se agruparán las restricciones para mayor calidad."
      ]
    },
    {
      "cell_type": "markdown",
      "metadata": {
        "id": "V5KPnEtv8Kot"
      },
      "source": [
        "#### 1. Restricciones de Flujo\n",
        "Nos aseguramos de que cada vehículo tenga una ruta continua:"
      ]
    },
    {
      "cell_type": "markdown",
      "metadata": {
        "id": "_NyTawzu8Kou"
      },
      "source": [
        "- **Conservación en nodos intermedios (flujo balanceado)**:\n",
        "\n",
        "   $$\n",
        "   \\sum_{j:(j,i) ∈ A} x_{ij}^v = \\sum_{j:(i,j) ∈ A} x_{ij}^v \\quad \\forall i \\in N, v \\in V\n",
        "   $$"
      ]
    },
    {
      "cell_type": "markdown",
      "metadata": {
        "id": "LmnH8Yyw8Kov"
      },
      "source": [
        "- **Salida del punto de acceso**:\n",
        "\n",
        "   $$\n",
        "   \\sum_{j:(p,j) ∈ A} x_{pj}^v ≤ 1 \\quad \\forall p \\in P, v \\in V\n",
        "   $$\n"
      ]
    },
    {
      "cell_type": "markdown",
      "metadata": {
        "id": "Qnru5gp88Kov"
      },
      "source": [
        "- **Llegada a un destino**:\n",
        "\n",
        "   $$\n",
        "   \\sum_{j:(i,d) ∈ A} x_{id}^v ≤ 1 \\quad \\forall d \\in D, v \\in V\n",
        "   $$\n",
        "\n"
      ]
    },
    {
      "cell_type": "markdown",
      "metadata": {
        "id": "Lj-yOXLp8Kow"
      },
      "source": [
        "#### 2. Restricciones de Capacidad y Peso"
      ]
    },
    {
      "cell_type": "markdown",
      "metadata": {
        "id": "5g08hfU_8Koy"
      },
      "source": [
        "- **Límite de carga por vehículo**:\n",
        "\n",
        "   $$\n",
        "   \\sum_{(i,j) ∈ A} w_{ij}^v ≤ Capacidad_v \\quad \\forall v \\in V\n",
        "   $$\n"
      ]
    },
    {
      "cell_type": "markdown",
      "metadata": {
        "id": "WkT87TcP8Koz"
      },
      "source": [
        "- **Restricción de peso en municipios**:\n",
        "\n",
        "   $$\n",
        "   \\sum_{i:(i,d) ∈ A} w_{id}^v ≤ PesoMax_d \\quad \\forall d \\in (M ⊆ D), v \\in V\n",
        "   $$"
      ]
    },
    {
      "cell_type": "markdown",
      "metadata": {
        "id": "4XqWXGN58Ko0"
      },
      "source": [
        "#### 3. Restricciones de Autonomía y Consumo"
      ]
    },
    {
      "cell_type": "markdown",
      "metadata": {
        "id": "t2Zi6R8L8KpA"
      },
      "source": [
        "- **Estado de combustible al llegar al nodo j**:\n",
        "\n",
        "   $$\n",
        "   f_{j}^v = f_{i}^v - Consumo_v * dist_{ij} + f_{j}^v \\quad \\forall (i,j) \\in A\n",
        "   $$"
      ]
    },
    {
      "cell_type": "markdown",
      "metadata": {
        "id": "3GTRUxvf8KpC"
      },
      "source": [
        "- **Autonomía máxima del taque**:\n",
        "\n",
        "   $$\n",
        "   f_{i}^v = Autonomía_v \\quad \\forall i \\in N, v \\in V\n",
        "   $$"
      ]
    },
    {
      "cell_type": "markdown",
      "metadata": {
        "id": "iZow51pe8KpD"
      },
      "source": [
        "- **No recarga si el nodo no estación**:\n",
        "\n",
        "   $$\n",
        "   r_{i}^v = 0 \\quad \\forall i \\notin E\n",
        "   $$"
      ]
    },
    {
      "cell_type": "markdown",
      "metadata": {
        "id": "wSMKqmZl8KpE"
      },
      "source": [
        "#### 4. Cosotos de Peaje con peso\n",
        "OJO: Esto se puede incorporar directamente en la función objetivo como término de costo"
      ]
    },
    {
      "cell_type": "markdown",
      "metadata": {
        "id": "BH5nyxDq8KpE"
      },
      "source": [
        "- **Si hay costo por tonelada**:\n",
        "   $$\n",
        "   Peaje_{ij}^v = PeajeBase_{ij} + PeajeTon_{ij} * w_{ij}^v\n",
        "   $$"
      ]
    },
    {
      "cell_type": "markdown",
      "metadata": {
        "id": "chnlkr3N8KpF"
      },
      "source": [
        "#### 5. Entrega Total de Carga\n",
        "(Si se conoce la demanda total a transportar. Toca preguntar pq no entendí esa parte o no leí bien, la dejo por si acaso).\n",
        "\n",
        "   $$\n",
        "   \\sum_{v ∈ V} \\sum_{i:(i,d) ∈ A} w_{id}^v = Demanda_d \\quad \\forall d \\in D\n",
        "   $$"
      ]
    },
    {
      "cell_type": "markdown",
      "metadata": {
        "id": "5NC5AAp88KpG"
      },
      "source": [
        "#### 6. Consistencia entre variables\n",
        "\n",
        "- **Solo puede haber carga o recarga si el arco (ruta) es usado**:\n",
        "\n",
        "   $$\n",
        "   w_{ij}^v ≤ Capacidad_{v} * x_{ij}^v , r_{i}^v ≤ R_{max} * \\sum_{j} x_{ij}^v\n",
        "   $$"
      ]
    },
    {
      "cell_type": "markdown",
      "metadata": {
        "id": "Z3KIbM3Z8KpL"
      },
      "source": [
        "## Parte 2 - Función Objetivo y Proceso de indagación"
      ]
    },
    {
      "cell_type": "markdown",
      "metadata": {
        "id": "NZO8Yssu8Kpn"
      },
      "source": [
        "### Función objetivo\n",
        "Planteamiento explícito de la función a optimizar considerando posibles penalizaciones por incumplimiento de restricciones."
      ]
    },
    {
      "cell_type": "markdown",
      "metadata": {
        "id": "KYmbIfVnwpNN"
      },
      "source": [
        "$$∑\\limits_{v∈V}∑\\limits_{i∈N} ∑\\limits_{j∈N} x_{ij}^v*CostoTotal_{ijv}$$"
      ]
    },
    {
      "cell_type": "markdown",
      "metadata": {
        "id": "pEDxbz1A8Kpo"
      },
      "source": [
        "### Descripción del proceso de indagación\n",
        "Con el fin de definir y justificar la función objetivo, incluyendo la revisión de literatura y análisis comparativo con casos de estudio relevantes."
      ]
    },
    {
      "cell_type": "markdown",
      "metadata": {
        "id": "bvVZ_4NO5PPn"
      },
      "source": [
        "Para la empresa LogistiCo: National Logistics Division lo mas importante es la optimizacion de costos ya que no su objetivo no es la velocidad de entrega si no la completa garantia de que los paquetes van a llegar a su destino de forma optima para la compañia."
      ]
    },
    {
      "cell_type": "code",
      "execution_count": null,
      "metadata": {},
      "outputs": [],
      "source": [
        "from pyomo.environ import *\n",
        "\n",
        "# Modelo\n",
        "model = ConcreteModel()\n",
        "\n",
        "# -----------------------\n",
        "# 1. CONJUNTOS\n",
        "# -----------------------\n",
        "model.V = Set()           # Vehículos\n",
        "model.N = Set()           # Nodos (puertos, destinos, estaciones)\n",
        "model.A = Set(dimen=2)    # Arcos posibles (i,j)\n",
        "model.E = Set(within=model.N)  # Estaciones de servicio\n",
        "model.D = Set(within=model.N)  # Destinos\n",
        "model.M = Set(within=model.D)  # Destinos con restricción de peso\n",
        "\n",
        "# -----------------------\n",
        "# 2. PARÁMETROS\n",
        "# -----------------------\n",
        "model.dist = Param(model.A)\n",
        "model.CostoTotal = Param(model.A, model.V)\n",
        "model.Capacidad = Param(model.V)\n",
        "model.Autonomia = Param(model.V)\n",
        "model.PesoMax = Param(model.M)\n",
        "model.PeajeBase = Param(model.A, default=0)\n",
        "model.PeajeTon = Param(model.A, default=0)\n",
        "\n",
        "# -----------------------\n",
        "# 3. VARIABLES\n",
        "# -----------------------\n",
        "model.x = Var(model.A, model.V, domain=Binary)\n",
        "model.w = Var(model.A, model.V, domain=NonNegativeReals)\n",
        "model.r = Var(model.N, model.V, domain=NonNegativeReals)  # Recarga en nodos (solo se permitirá en estaciones)\n",
        "model.f = Var(model.N, model.V, domain=NonNegativeReals)  # Combustible disponible al llegar a nodo\n",
        "\n",
        "# -----------------------\n",
        "# 4. FUNCIÓN OBJETIVO\n",
        "# -----------------------\n",
        "def objetivo(model):\n",
        "    return sum(model.x[i, j, v] * model.CostoTotal[i, j, v]\n",
        "               for (i, j) in model.A for v in model.V)\n",
        "model.obj = Objective(rule=objetivo, sense=minimize)\n",
        "\n",
        "# -----------------------\n",
        "# 5. RESTRICCIONES\n",
        "# -----------------------\n",
        "\n",
        "# 5.1 Flujo conservado en nodos intermedios\n",
        "def flujo_balanceado(model, i, v):\n",
        "    if i not in model.D and i not in model.N:\n",
        "        return sum(model.x[j, i, v] for (j, k) in model.A if k == i) == \\\n",
        "               sum(model.x[i, j, v] for (k, j) in model.A if k == i)\n",
        "    return Constraint.Skip\n",
        "model.flujo_balanceado = Constraint(model.N, model.V, rule=flujo_balanceado)\n",
        "\n",
        "# 5.2 Salida del punto de acceso (solo uno por vehículo)\n",
        "def salida_puerto(model, p, v):\n",
        "    return sum(model.x[p, j, v] for (i, j) in model.A if i == p) <= 1\n",
        "model.salida_puerto = Constraint(model.N, model.V, rule=salida_puerto)\n",
        "\n",
        "# 5.3 Capacidad máxima del vehículo\n",
        "def capacidad_max(model, v):\n",
        "    return sum(model.w[i, j, v] for (i, j) in model.A) <= model.Capacidad[v]\n",
        "model.restr_capacidad = Constraint(model.V, rule=capacidad_max)\n",
        "\n",
        "# 5.4 Peso máximo en municipios restringidos\n",
        "def peso_municipio(model, d, v):\n",
        "    return sum(model.w[i, d, v] for (i, j) in model.A if j == d) <= model.PesoMax[d]\n",
        "model.restr_peso = Constraint(model.M, model.V, rule=peso_municipio)\n",
        "\n",
        "# 5.5 Autonomía: consumo y recarga (requiere definir consumo por km)\n",
        "model.Consumo = Param(model.V, default=0.005)  # gal/km, por ejemplo\n",
        "\n",
        "def estado_combustible(model, i, j, v):\n",
        "    if (i, j) in model.A:\n",
        "        return model.f[j, v] == model.f[i, v] - model.dist[i, j]*model.Consumo[v] + model.r[j, v]\n",
        "    return Constraint.Skip\n",
        "model.autonomia = Constraint(model.A, model.V, rule=estado_combustible)\n",
        "\n",
        "def max_combustible(model, i, v):\n",
        "    return model.f[i, v] <= model.Autonomia[v]\n",
        "model.max_comb = Constraint(model.N, model.V, rule=max_combustible)\n",
        "\n",
        "# 5.6 Recarga solo en estaciones\n",
        "def recarga_estaciones(model, i, v):\n",
        "    if i not in model.E:\n",
        "        return model.r[i, v] == 0\n",
        "    return Constraint.Skip\n",
        "model.r_nodest = Constraint(model.N, model.V, rule=recarga_estaciones)\n",
        "\n",
        "# 5.7 Carga solo si se usa el arco\n",
        "def carga_si_se_usa(model, i, j, v):\n",
        "    return model.w[i, j, v] <= model.Capacidad[v] * model.x[i, j, v]\n",
        "model.limite_carga_arco = Constraint(model.A, model.V, rule=carga_si_se_usa)\n"
      ]
    },
    {
      "cell_type": "markdown",
      "metadata": {
        "id": "v0i9tpcd8Kpp"
      },
      "source": [
        "## Parte 3 - Preprocesamiento de Datos y Análisis"
      ]
    },
    {
      "cell_type": "markdown",
      "metadata": {
        "id": "YmjuoP7U8Kpq"
      },
      "source": [
        "### Procesos utilizados para extraer y procesar datos adicionales"
      ]
    },
    {
      "cell_type": "markdown",
      "metadata": {
        "id": "HslwMO37ReJ9"
      },
      "source": [
        "Extraemos todas las coordenadas de los lugares a visitar"
      ]
    },
    {
      "cell_type": "code",
      "execution_count": 1,
      "metadata": {
        "colab": {
          "base_uri": "https://localhost:8080/"
        },
        "id": "nW6TxxNH8PSq",
        "outputId": "823e4097-91c4-4151-8a11-da33f88f3fef"
      },
      "outputs": [
        {
          "name": "stderr",
          "output_type": "stream",
          "text": [
            "WARNING:urllib3.connectionpool:Retrying (Retry(total=1, connect=None, read=None, redirect=None, status=None)) after connection broken by 'ReadTimeoutError(\"HTTPSConnectionPool(host='nominatim.openstreetmap.org', port=443): Read timed out. (read timeout=1)\")': /search?q=Bogota&format=json&limit=1\n",
            "WARNING:urllib3.connectionpool:Retrying (Retry(total=1, connect=None, read=None, redirect=None, status=None)) after connection broken by 'ReadTimeoutError(\"HTTPSConnectionPool(host='nominatim.openstreetmap.org', port=443): Read timed out. (read timeout=1)\")': /search?q=Cogua&format=json&limit=1\n",
            "WARNING:urllib3.connectionpool:Retrying (Retry(total=0, connect=None, read=None, redirect=None, status=None)) after connection broken by 'ReadTimeoutError(\"HTTPSConnectionPool(host='nominatim.openstreetmap.org', port=443): Read timed out. (read timeout=1)\")': /search?q=Cogua&format=json&limit=1\n"
          ]
        },
        {
          "name": "stdout",
          "output_type": "stream",
          "text": [
            "[[-74.7964, 10.9639], [-74.0836333, 4.6533816], [-73.8776944, 4.8664391], [-73.9599328011159, 5.10852035], [-74.28409651016692, 11.005912925098826], [-74.16238561225475, 10.649143797497034], [-74.82508479065856, 10.492299407024618]]\n"
          ]
        }
      ],
      "source": [
        "from geopy.geocoders import Nominatim\n",
        "\n",
        "puerto_barraquilla = [-74.7964,10.9639] #Coordenadas Barranquilla\n",
        "puntos_acesso = [puerto_barraquilla]\n",
        "\n",
        "\n",
        "geolocator = Nominatim(user_agent=\"MyApp\")\n",
        "centros_consumo = []\n",
        "bogota = geolocator.geocode(\"Bogota\") #Usamos geopy para obtener coordenadas de centros de consumo\n",
        "bogota = [bogota.longitude,bogota.latitude]\n",
        "guasca = geolocator.geocode(\"Guasca\")\n",
        "guasca = [guasca.longitude, guasca.latitude]\n",
        "cogua = geolocator.geocode(\"Cogua\")\n",
        "cogua = [cogua.longitude, cogua.latitude]\n",
        "centros_consumo.extend([bogota, guasca, cogua])\n",
        "\n",
        "#estaciones_servicio = [[-74.5000,12.000],[74.2000, 10.8000],[-75.0000, 10.5000]] #Las que estan en el documento no son lugares a los que se puede llegar en carro asi que se aproximo a eds mas cercana en la vida real\n",
        "estaciones_servicio = [[-74.28409651016692,11.005912925098826],[-74.16238561225475,10.649143797497034],[-74.82508479065856,10.492299407024618, ]]\n",
        "\n",
        "# Si se tuviera un csv de varios datos se cargaria adecuadamente aqui se hace para ejercicio pequeño\n",
        "coordinates = puntos_acesso + centros_consumo + estaciones_servicio\n",
        "place_names = ['Puerto Barranquilla','Bogotá', 'Guasca', 'Cogua', 'Estación La Estrella', 'Estación El Sol', 'Estación Caribe']\n",
        "\n",
        "print(coordinates)"
      ]
    },
    {
      "cell_type": "markdown",
      "metadata": {
        "id": "JTZcUH9LRZRN"
      },
      "source": [
        "**TODO Escribir api_key**"
      ]
    },
    {
      "cell_type": "code",
      "execution_count": 3,
      "metadata": {
        "id": "L0FrwEmdRVxr"
      },
      "outputs": [],
      "source": [
        "#api_key ="
      ]
    },
    {
      "cell_type": "markdown",
      "metadata": {
        "id": "-kNnsCmzRlff"
      },
      "source": [
        "Utilizamos API de open route service para tener la matriz de distancias entre puntos de interes"
      ]
    },
    {
      "cell_type": "code",
      "execution_count": 4,
      "metadata": {
        "id": "IqX-RIpTGh-6"
      },
      "outputs": [],
      "source": [
        "import requests\n",
        "import json\n",
        "\n",
        "def get_distance_matrix(coordinates, api_key):\n",
        "    \"\"\"\n",
        "    Retrieve distance matrix from OpenRouteService API\n",
        "\n",
        "    Parameters:\n",
        "    - coordinates: List of [longitude, latitude] coordinates\n",
        "    - api_key: Your OpenRouteService API key\n",
        "\n",
        "    Returns:\n",
        "    - Distance matrix as a 2D list\n",
        "    \"\"\"\n",
        "    # OpenRouteService matrix service endpoint\n",
        "    url = \"https://api.openrouteservice.org/v2/matrix/driving-car\"\n",
        "\n",
        "    # Prepare the request payload\n",
        "    payload = {\n",
        "        \"locations\": coordinates,\n",
        "        \"metrics\": [\"distance\",\"duration\"],  # You can also use \"duration\"\n",
        "        \"units\": \"km\"  # Optional: specify units\n",
        "    }\n",
        "\n",
        "    # Headers including your API key\n",
        "    headers = {\n",
        "        'Accept': 'application/json, application/geo+json, application/gpx+xml, img/png; charset=utf-8',\n",
        "        'Content-Type': 'application/json; charset=utf-8',\n",
        "        'Authorization': api_key\n",
        "    }\n",
        "\n",
        "    try:\n",
        "        # Make the POST request to the API\n",
        "        response = requests.post(url, json=payload, headers=headers)\n",
        "\n",
        "        # Check if the request was successful\n",
        "        response.raise_for_status()\n",
        "\n",
        "        # Parse the JSON response\n",
        "        matrix_data = response.json()\n",
        "\n",
        "        # Extract the distance matrix\n",
        "        distance_matrix = matrix_data.get('distances', [])\n",
        "        duration_matrix = matrix_data.get('durations', [])\n",
        "\n",
        "        return distance_matrix, duration_matrix\n",
        "\n",
        "    except requests.exceptions.RequestException as e:\n",
        "        print(f\"Error making request to OpenRouteService: {e}\")\n",
        "        return None\n",
        "\n",
        "\n",
        "# Get the distance matrix\n",
        "distance_matrix, duration_matrix = get_distance_matrix(coordinates, api_key)\n",
        "\n"
      ]
    },
    {
      "cell_type": "markdown",
      "metadata": {
        "id": "umcDXMkkRvgl"
      },
      "source": [
        "Imprimimos tabla de distancias"
      ]
    },
    {
      "cell_type": "code",
      "execution_count": 5,
      "metadata": {
        "colab": {
          "base_uri": "https://localhost:8080/"
        },
        "id": "29fFoDUtNHjo",
        "outputId": "84d7ac58-690b-4c7c-e21a-41fc435b2357"
      },
      "outputs": [
        {
          "name": "stdout",
          "output_type": "stream",
          "text": [
            "Distance Matrix (kilometers):\n",
            "+----------------------+---------------------+---------+--------+--------+----------------------+-----------------+-----------------+\n",
            "|       From/To        | Puerto Barranquilla | Bogotá  | Guasca | Cogua  | Estación La Estrella | Estación El Sol | Estación Caribe |\n",
            "+----------------------+---------------------+---------+--------+--------+----------------------+-----------------+-----------------+\n",
            "| Puerto Barranquilla  |         0.0         | 990.92  | 955.45 | 935.42 |        63.38         |     116.91      |      58.92      |\n",
            "|        Bogotá        |       985.63        |   0.0   | 47.59  | 61.88  |        922.85        |     867.66      |     1017.3      |\n",
            "|        Guasca        |       964.07        |  48.08  |  0.0   | 40.31  |        901.29        |      846.1      |     995.74      |\n",
            "|        Cogua         |       935.73        |  60.55  | 39.83  |  0.0   |        872.95        |     817.76      |      967.4      |\n",
            "| Estación La Estrella |        63.69        | 928.45  | 892.98 | 872.95 |         0.0          |      54.44      |     115.73      |\n",
            "|   Estación El Sol    |       118.01        | 874.05  | 838.58 | 818.55 |        55.23         |       0.0       |     170.04      |\n",
            "|   Estación Caribe    |        59.36        | 1021.74 | 986.27 | 966.24 |        115.36        |     168.89      |       0.0       |\n",
            "+----------------------+---------------------+---------+--------+--------+----------------------+-----------------+-----------------+\n"
          ]
        }
      ],
      "source": [
        "from tabulate import tabulate\n",
        "\n",
        "table_data = []\n",
        "for i, row in enumerate(distance_matrix):\n",
        "    # Create a row with place name as first column, followed by distances\n",
        "    table_row = [place_names[i]] + [round(dist, 2) for dist in row]\n",
        "    table_data.append(table_row)\n",
        "\n",
        "# Print the table\n",
        "print(\"Distance Matrix (kilometers):\")\n",
        "print(tabulate(\n",
        "    table_data,\n",
        "    headers=['From/To'] + place_names,\n",
        "    tablefmt='pretty'\n",
        "))"
      ]
    },
    {
      "cell_type": "code",
      "execution_count": 9,
      "metadata": {
        "colab": {
          "base_uri": "https://localhost:8080/"
        },
        "id": "2f0MD3v3vgkE",
        "outputId": "6292e64e-f432-46fa-e189-fe644192d454"
      },
      "outputs": [
        {
          "name": "stdout",
          "output_type": "stream",
          "text": [
            "Duration Matrix (hours):\n",
            "+----------------------+---------------------+--------+--------+-------+----------------------+-----------------+-----------------+\n",
            "|       From/To        | Puerto Barranquilla | Bogotá | Guasca | Cogua | Estación La Estrella | Estación El Sol | Estación Caribe |\n",
            "+----------------------+---------------------+--------+--------+-------+----------------------+-----------------+-----------------+\n",
            "| Puerto Barranquilla  |         0.0         | 13.04  | 12.78  | 12.15 |         0.85         |      1.46       |      0.99       |\n",
            "|        Bogotá        |        12.96        |  0.0   |  1.01  | 1.18  |        12.16         |      11.48      |      13.37      |\n",
            "|        Guasca        |        12.75        |  1.09  |  0.0   | 0.96  |        11.95         |      11.27      |      13.16      |\n",
            "|        Cogua         |        12.14        |  1.36  |  1.04  |  0.0  |        11.33         |      10.66      |      12.55      |\n",
            "| Estación La Estrella |        0.86         | 12.25  |  12.0  | 11.36 |         0.0          |      0.67       |      1.71       |\n",
            "|   Estación El Sol    |        1.48         | 11.59  | 11.33  | 10.7  |         0.68         |       0.0       |      2.33       |\n",
            "|   Estación Caribe    |        0.96         | 13.48  | 13.22  | 12.59 |         1.64         |      2.25       |       0.0       |\n",
            "+----------------------+---------------------+--------+--------+-------+----------------------+-----------------+-----------------+\n"
          ]
        }
      ],
      "source": [
        "\n",
        "# Imprimimos tabla de duraciones\n",
        "\n",
        "table_data = []\n",
        "for i, row in enumerate(duration_matrix):\n",
        "    # Create a row with place name as first column, followed by durations\n",
        "    table_row = [place_names[i]] + [round(duration/3600, 2) for duration in row]\n",
        "    table_data.append(table_row)\n",
        "\n",
        "# Print the table\n",
        "print(\"Duration Matrix (hours):\")\n",
        "print(tabulate(\n",
        "    table_data,\n",
        "    headers=['From/To'] + place_names,\n",
        "    tablefmt='pretty'\n",
        "))\n"
      ]
    },
    {
      "cell_type": "markdown",
      "metadata": {
        "id": "IWpmNi8h8Kpr"
      },
      "source": [
        "### Integración de la información en el modelo"
      ]
    },
    {
      "cell_type": "markdown",
      "metadata": {
        "id": "ux2ZHAYASCmr"
      },
      "source": [
        "Esta informacion hace parte integral del modelo pues es la matriz $dist_{ij}$ que representa la distancia a recorrer entre el nodo $i$ y el nodo $j$"
      ]
    },
    {
      "cell_type": "markdown",
      "metadata": {
        "id": "EGPu-XLS8Kpr"
      },
      "source": [
        "## Parte 4 - Ejemplos Ilustrativos"
      ]
    },
    {
      "cell_type": "markdown",
      "metadata": {
        "id": "LXmpS7bL8Kps"
      },
      "source": [
        "### Casos de aplicación del modelo\n",
        "\n",
        "**1. Caso imposible** \n",
        "\n",
        "Un camino no alcanzable por LogistiCo seria la ruta entre el puerto de Barranquilla y el municipio de Cogua. Entre estos dos hay una distancia de 935.42 kilómetros. Con los camiones actualmente en la empresa ninguno de ellos sería capaz de llegar hasta Cogua sin realizar paradas. Escogemos el vehículo 3 con una autonomía de 800 kilómetros y una capacidad de 30 toneladas. Cogua tiene un peso máximo de entrada de 25, por lo que solo cargaremos el camión con 25 toneladas.  El vehículo alcanzará a hacer aproximadamente el 85% del recorrido, quedando varado al rededor del municipio de Gualilo en (6.1876197, -73.7143039)\n",
        "\n",
        "Ruta planeada \n",
        "Puerto Barranquilla → Cogua \n",
        "\n",
        "Informacion vehiculo \n",
        "| Id Vehículo | Capacidad (ton) | Autonomía (km) |\n",
        "|------------|----------------|---------------|\n",
        "| V3         | 25             | 800           |\n",
        "\n",
        "Informacion Destino \n",
        "| Id Destino | Municipio      | Peso Maximo (ton) |\n",
        "|------------|----------------|---------------|\n",
        "| D3         | Cogua            | 25           |\n",
        "\n",
        "En la siguiente imagen se pueda la ruta calculada por medio de google maps. Se muestra la ruta original, no se muestra donde se debe quedar el vehiculo sin gasolina. \n",
        "\n",
        "\n",
        "<img src=\"Imposible.jpg\" alt=\"Ruta No Posible\" width=\"500\">\n",
        "\n",
        "**2. Camino Posible** \n",
        "\n",
        "Un camino alcanzable por LogístiCo sería la ruta entre Puerto Barranquilla, Estación el Sol, Cogua y Guasca. En total las distancias recorridas por el vehículo serían de 975.29 kilómetros, en la tabla a continuación se muestran las distancias de cada recorrido. Esta ruta será realizada por un nuevo camión que adquiera la empresa que tenga una autonomía de mínimo 870 kilómetros y una capacidad mínima de 25 pero recomendada mayor. Este vehículo 4 saldría del Puerto Barranquilla transportando 25 toneladas pues es el máximo para entrar a Cogua y entregaría mínimo 7 toneladas. Cuando tenga menos de 18 toneladas, se dirigirá a Guasca. \n",
        "\n",
        "Ruta planeada \n",
        "Puerto Barranquilla → Estación El Sol → Cogua → Guasca  \n",
        "\n",
        "Informacion vehiculo \n",
        "| Id Vehículo | Capacidad (ton) | Autonomía (km) |\n",
        "|------------|----------------|---------------|\n",
        "| V4        | >=25             | >=860           |\n",
        "\n",
        "Informacion Ruta\n",
        "|   Ruta                     | Distancia | Autonomía (km) | Recarga Gasolina |\n",
        "|------------------------|----------|---------------|------------------|\n",
        "| Puerto Barranquilla |          | 900           | No               |\n",
        "| Puerto Barranquilla → Estación el sol | 116.91   | 783.09        | Sí (vuelve a 900 la autonomía) |\n",
        "| Estación el sol → Cogua| 818.55   | 81.45         | No               |\n",
        "| Cogua → Guasca    | 39.83    | 41.62         | No               |\n",
        "\n",
        "En la siguiente imagen ilustramos el recorrido planteado anteriormente. Los puntos amarillos en las estaciones o municipios representan las paradas realizadas en el camino.\n",
        "\n",
        "<img src=\"Imposible.jpg\" alt=\"Ruta No Posible\" width=\"500\">\n",
        "\n",
        "\n",
        "\n",
        "### Conclusion analisis factibilidad y consistencia\n",
        "\n",
        "**Caso Imposible:** La ruta directa entre Puerto Barranquilla y Cogua no es viable con los vehículos actuales debido a la autonomía insuficiente. De hecho, con los datos planteados como están en este momento, ninguna de las rutas es posible. Todas las distancias entre tanto el puerto como las estaciones de servicio superan los 800 kilómetros lo que es la autonomía máxima de los vehículos de LogístiCo.\n",
        "\n",
        "\n",
        "**Caso Posible:** Si a LogístiCo le interesa la adquisición del vehículo 4 que tenga una mayor autonomía y posiblemente una mayor capacidad, las rutas deseadas si serán posibles. Con una distancia total a recorrer de 975.29 kilómetros y una parada en la estación de servicio, es posible el recorrido. Actualmente no tenemos la demanda de cada uno de los municipios para estimar con mayor precisión la ruta y la capacidad necesaria para cumplir dicha demanda. Sin embargo, con valores teóricos y un nuevo vehículo vemos que la ruta de puerto barranquilla a Cogua y Guasca es posible."
      ]
    },
    {
      "cell_type": "markdown",
      "metadata": {
        "id": "Thdjs9Y-8Kpt"
      },
      "source": [
        "### Análisis de factibilidad y consistencia de la solución"
      ]
    },
    {
      "cell_type": "markdown",
      "metadata": {
        "id": "igosKEAU8Kpu"
      },
      "source": [
        "## Parte 5 - Justificación y Discusión"
      ]
    },
    {
      "cell_type": "markdown",
      "metadata": {
        "id": "Ksk5vjJF8Kpv"
      },
      "source": [
        "### Justificación de los elementos del modelo"
      ]
    },
    {
      "cell_type": "markdown",
      "metadata": {},
      "source": [
        "### Justificación de los elementos del modelo y relevancia de los datos, las decisiones metodológicas adoptadasy los posibles impactos operativos en el contexto de LogistiCo en Bogotá\n",
        "\n",
        "### Conjuntos \n",
        "\n",
        "**1. Conjuntos punto de Acceso** \\\n",
        "Se representa el nodo de entrada de mercancía al sistema, puerto desde el cual se va a distribuir los productos. En este caso solo tenemos un nodo inicial en el Atlántico, puerto Barranquilla. Se plantea como un conjunto pues en caso de que LogistiCo desee agregar un puerto de origen en algún momento, no se tiene que replantear todo el modelo, sino agregarlo al conjunto. \n",
        "\n",
        "**2. Conjunto destinos** \\\n",
        "Representa los municipios a donde se entregarán los productos transportados. Se separan de los puntos de acceso pues estos municipios tienen una demanda específica que debe ser satisfecha. Se plantea el conjunto de tal manera que en caso que LogistiCo desee agregar más municipios en su red, sea sencillo y no requiera mayor modificaciones del modelo. \n",
        "\n",
        "**3. Conjunto estaciones de servicio** \\\n",
        "Representa los puntos donde los vehículos pueden recargar combustible durante una ruta. Representarán una parada adicional en la ruta que se plantee según los municipios que cada vehículo debe visitar.  Esto permite evaluar la restricción de recarga establecida por LogístiCo y la estrategia integral de recarga. Estas dos condiciones plantean la importancia de parar a cargar el camión que transporte los productos  de gasolina a lo largo del trayecto, lo que permite la continuidad de las operaciones. \n",
        "\n",
        "**4. Conjunto de vehículos** \\\n",
        "Define el conjunto de camiones disponibles para el transporte. Cada uno de los camiones tiene capacidades y costos diferentes lo cual se tiene que tener en cuenta al planear los caminos por la distancia y peso que puede transportar cada uno de ellos. \n",
        "\n",
        "**5. Conjunto de arcos posibles** \\\n",
        "Se representan las conexiones existentes entre municipios. Incluye tanto conexiones con nodos de acceso o iniciales como con municipios normales y estaciones de parada. LogístiCo provee una tabla en la cual se muestran las condiciones de cada camión incluyendo la capacidad de peso y la autonomía en cuanto a kilómetros. \n",
        "\n",
        "**6. Conjuntos de municipios con restricción de peso** \\\n",
        "Este conjunto es un subconjunto de destinos que tienen limitaciones en el peso de los vehículos que pueden ingresar. Este conjunto se usará para establecer restricciones. LogístiCo está interesado en no poner en riesgo ninguna carretera para completar las rutas, por lo cual cuando un municipio tenga un límite de peso que puede ingresar, este debe ser valorado y tomado en cuenta para calcular las rutas. \n",
        "\n",
        "\n",
        "### Parametros \n",
        "\n",
        "**1. Parámetros geográficos** \n",
        "\n",
        "- Latitud del nodo i \n",
        "\n",
        "    Representa el valor de la latitud del nodo i\n",
        "\n",
        "- Longitud del nodo i \n",
        "\n",
        "     Representa el valor de la longitud del nodo i \\\n",
        "\n",
        "Estos parámetros se utilizan para mostrar la  ubicación geográfica del nodo i. Permiten calcular distancias reales entre los nodos para evaluar las distancias y seleccionar las mejores rutas. Tenemos los datos de latitud y longitud para las estaciones de servicio y para el puerto barranquilla, pero no tenemos los datos de las estaciones de los municipios. Para esto utilizamos geolocator en el código para obtener las coordenadas de los centros de consumo. Con ese valor encontrado, calculamos la latitud y longitud de cada punto de la red. \n",
        "\n",
        "**2. Red y Costos del trayecto**\n",
        "\n",
        "- **Distancia entre nodo i y j (dist(ij))**\\\n",
        "        Nos muestra la distancia en kilómetros entre el nodo i y j. Estas distancias son calculadas en el código por el método get_distance_matrix(coordinates, api_key), la cual devuelve una matriz que nos muestra las distancias entre cada uno de los municipios, el puerto de origen y las estaciones de servicio. Esta matriz de distancia nos ayuda a cumplir con la optimización de las rutas que está buscando LogístiCo. La empresa mencionó que se están buscando rutas que minimicen el costo total del transporte considerando distancias, peajes, mantenimiento y combustible. Con esta matriz analizaremos la condición de distancia.\n",
        "\n",
        "- **Tarifa de peaje entre i y j (Peaje Base(ij))**\\\n",
        "        Representa un costo fijo en el camino entre algunos municipios. El código analizará este costo en el cálculo de los caminos para asegurarse de que el costo del peaje sea tomado en cuenta y se trate de minimizar las veces que se pase por este. \n",
        "- **Costo adicional por tonelada transportada entre i y j (PeajeTon(ij))**\\\n",
        "        Representa un costo variable según el peso del camión para un peaje entre municipios. Al igual que el valor mencionado anteriormente, este valor de peaje se analizará en el código para ser tenido en cuenta. Este peaje, a diferencia del anterior, puede cambiar su valor dependiendo en qué momento se pase pues el peso del camión cambiará durante el viaje y las paradas. \n",
        "- **Tarifa por flete por km (F_t)**\\\n",
        "        Este valor es un parámetro operativo adicional que representa el costo de operación del camión por kilómetro. Este costo adicional es clave para la optimización de costos pues se debe tener en cuenta que el valor aumenta con los kilómetros recorridos por un vehículo. \n",
        "- **Costo de mantenimiento por km (C_m)**\\\n",
        "        Este valor también es un parámetro operativo adicional que representa los gastos asociados con un vehículo por su desgaste y el mantenimiento que se debe realizar.  Este costo adicional es clave para la optimización de costos pues se debe tener en cuenta que el valor aumenta con los kilómetros recorridos por un vehículo. \n",
        " \n",
        "**3. Estaciones de servicio**\n",
        "- Precio de combustible \\\n",
        "        Este parámetro está asociado con las estaciones de servicio y representa el valor de la gasolina en dicha estación. Este precio puede tener un efecto en la ruta escogida pues puede variar el precio de la ruta según la parada que se escoja. Esto es mencionado por LogístiCo en la estrategia de recarga pues ya no solo se tiene en cuenta la ubicación de la estación sino el precio de la gasolina. \n",
        "\n",
        "**4. Vehículos** \n",
        "- Capacidad \\\n",
        "        Nos muestra la capacidad de peso o carga que tiene un camión. Esto se tiene en cuenta para minimizar la cantidad de viajes que se puede hacer pero se tiene que tener en cuenta el peso máximo de cada municipio en la ruta del camión. Este valor es dado por Logística y está en toneladas. \n",
        "- Autonomía \\\n",
        "        Este parámetro asociado a los vehículos nos muestra la autonomía que tiene un camión en kilómetros. Por autonomía entendemos la distancia que puede recorrer un camión con el tanque lleno y sin necesidad de parar a recargar. \n",
        "\n",
        "**5. Restricciones de municipios**\n",
        "- Peso Máximo (PesoMax)\\\n",
        "        Como mencionado anteriormente, los municipios tienen un peso máximo que es permitido entrar a él. Este valor es representado por medio del parámetro peso máximo y nos ayudará a planear las rutas y el orden de las paradas para cumplir con la restricción. \n",
        "\n",
        "**6. Parámetros derivados o preprocesados**\n",
        "- Costo total \\\n",
        "        Este parámetro derivado combina en una misma fórmula todos los costos relevantes para evaluar una ruta. Todo está basado en el objetivo de LogístiCo de diseñar una estrategia de rutas que permita minimizar los costos operativos y de combustible. La ecuación reúne todos estos costos de manera que se suma, la distancia multiplicada por  la tarifa de flete y la de mantenimiento, se suma la tarifa fija del peaje y la variable por las toneladas del camión, multiplicado por la capacidad del camión. \n",
        "\n",
        "\n",
        "\n",
        "\n",
        "### **Variable de decisión**\n",
        "\n",
        "- **Variable de ruta** \\\n",
        "Es una variable binaria que nos permite determinar si el vehículo V se desplaza por el arco i j. De esta manera podemos ir determinando el camino que sigue un camión. Para esta variable de decisión se toma un valor de 1 si el camión si pasa por la ruta o un valor de 0 si el camión no se transporta por esa ruta. \n",
        "- **Variable de carga transportada** \\\n",
        "Es una variable numérica que nos permite analizar cuánto peso es transportado por un camión mientras pasa del municipio i al municipio j. Este valor debe ser mayor o igual a 0. La razón por la que incluimos el 0 es por el viaje final. El camión debe ser capaz de retornar al origen o puerto barranquilla después de realizar las entregas. El valor en ningún momento debe ser negativo. \n",
        "- **Variable de recarga** \\\n",
        "Esta variable permite hacer realidad la estrategia de recarga planteada por LogístiCo. Está representada como un valor numérico que nos muestra la cantidad de galones de gasolina ingresados al camión en la estación de servicio escogida. Esta variable recorre todas los nodos pero se asigna un valor de 0 en caso de que la estación no sea una estación de servicio. \n",
        "- **Variable Auxiliar (para consumo y autonomía)** \\\n",
        "Esta variable numérica representa la cantidad de gasolina en galones disponible en el tanque del vehículo para llegar al nodo i. Esta variable nos permite controlar el consumo y la autonomía pues al ver la gasolina restante del vehículo podemos determinar la cantidad de kilómetros que podría recorrer y cuantos galones se gastaría.\n",
        "\n",
        "\n",
        "\n",
        "\n",
        "\n",
        "### **Restricciones**\n",
        "**1. Restricción de flujo**  \n",
        "Se plantean 3 restricciones con respecto al manejo de flujo de los camiones \n",
        "\n",
        "- Conservación de flujo nodos intermedios \n",
        "        Esta restricción permite conectar los caminos y asegurarse de que al llegar un camión a un municipio, este mismo camión saliera de este. Esta condición permite la creación de rutas pues permite las conexiones y evita que los camiones se puedan “teletransportar” entre municipios. \n",
        "\n",
        "- Salida de punto de acceso \\\n",
        "Esta restricción se asegura de que los vehículos salgan del nodo inicial. Es decir que salgan del puerto de barranquilla hacia los demás municipios destino de la red. Como LogístiCo solo tiene un nodo de inicio la condición  es muy simple. En caso de que se quiera modificar y tener más de un inicio sería muy sencillo agregar el nuevo origen. Como solo se tiene uno, se asegura que todos salgan de puerto Barranquilla. \n",
        "\n",
        "- Llegada a un destino \\\n",
        "Esta restricción asegura que los vehículos lleguen a algún nodo destino. Es decir, no una estación de servicio y no el nodo inicial. Se está buscando poder llegar a todos los municipios y asegurar que sea un destino. \n",
        "\n",
        "**2. Restricción Capacidad y Peso**\n",
        "- Límite de carga de un vehículo \\ \n",
        "Esta restricción trabaja en conjunto con el parámetro de capacidad de un camión para asegurarse que en ningún momento se está cargando más peso del posible. \n",
        "\n",
        "- Restricción por peso en municipios \\\n",
        "Esta restricción se basa en la capacidad de peso de cada municipio destino para asegurarse que en ningún momento un camión ingrese más peso del que es permitido. Se da como ejemplo que a Guasca no se pueden ingresar más de 18 toneladas. \n",
        "\n",
        "**3. Restricción de autonomía y consumo**\n",
        "- Estado combustible \\\n",
        "Al llegar un vehículo a algún destino, se debe analizar cuánta gasolina esta restante en el tanque del vehículo. Se calcula con el flujo encontrado en la estación anterior menos el consumo por la distancia. De esta manera se puede saber cuánta gasolina queda después de cada trayecto y cuando es necesario tanquear el vehículo. \n",
        "- Autonomía máxima del tanque \\\n",
        "Esta restricción verifica la autonomía máxima que tendría un vehículo teniendo en cuenta las condiciones específicas del vehículo. \n",
        "- Recargar solo en estacion\n",
        "Para evitar que el programa cargue gasolina en cualquier nodo, se incluye una restricción que garantice que solo se pueda hacer recarga en las estaciones de servicio. De esta forma se trabaja en la estrategia de recarga. \n",
        "\n",
        "**4. Costos de peaje con peso** \n",
        "\n",
        "Si en el peaje específico hay un costo adicional por el peso del camión, se agrega la condición de agregar el costo del peaje con el costo del precio por el peso. Existe la posibilidad de agregar esta restricción directamente a la función objetivo. Pero por su cuenta también funciona y se encarga de cumplir con la gestión de peajes y restricciones viales planteadas por LogístiCo. \n",
        "\n",
        "**5. Entrega total de carga**\n",
        "\n",
        "LogístiCo busca optimizar la entrega y minimizar los costos de transporte. Por esta razón, en ningún momento se va a transportar materiales que no deben ser entregados. Esta restricción se asegura de repartir todos los materiales dentro de él. Todos los materiales que hayan sido empacados en un camión deben ser entregados. \n",
        "\n",
        "**6. Consistencia entre variables**\n",
        "\n",
        "Esta restricción verifica que se recargue en la estación de servicio si y sólo si el arco en el que se encuentra la parada está siendo usado. Al igual que la condición de nodos intermedios, evita que los camiones puedan teletransportarse o llegar a estaciones de servicio de un camino que no se esté recorriendo. \n",
        "\n",
        "\n",
        "\n",
        "\n",
        "\n",
        "### **Función Objetivo**\n",
        "La función objetivo busca minimizar el costo total de transporte en la red logística de LogístiCo. \n",
        "\n",
        "$$∑\\limits_{v∈V}∑\\limits_{i∈N} ∑\\limits_{j∈N} x_{ij}^v*CostoTotal_{ijv}$$\n",
        "\n",
        "- Sumatoria sobre el conjunto de vehículos garantiza que el modelo optimice el costo considerando a todos los vehículos disponibles. Esto permite que los recursos se repartan de forma eficiente y se reduzcan los costos operativos. Se tiene que tener en cuenta que puede ser más eficiente sacar todos los vehículos pero más costoso hacerlos. \n",
        "- Sumatoria sobre los nodos tanto en i como en j, se aseguran de analizar todas las rutas posibles. De esta manera se puede encontrar la ruta óptima minimizando costos y distancias. \n",
        "La variable de decisión, nos indica si un vehículo v utiliza el camino i j. De esta forma se puede seleccionar las rutas más rentables y analizar los caminos. \n",
        "- Costo total nos muestra el costo asociado con el uso de la ruta i j. Este valor como mencionado anteriormente, tiene en cuenta el vehículo, la distancia, la gasolina, peajes, mantenimiento y costos operativos adicionales. \n",
        "\n",
        "Esta formulación permite a LogistiCo garantizar que los paquetes lleguen a su destino de la manera más económica y sostenible posible, sin comprometer la viabilidad operativa del sistema.\n"
      ]
    }
  ],
  "metadata": {
    "colab": {
      "provenance": []
    },
    "kernelspec": {
      "display_name": "pynomo_env",
      "language": "python",
      "name": "python3"
    },
    "language_info": {
      "name": "python",
      "version": "3.9.21"
    }
  },
  "nbformat": 4,
  "nbformat_minor": 0
}
