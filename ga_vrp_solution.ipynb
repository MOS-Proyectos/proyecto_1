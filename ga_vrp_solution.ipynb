{
 "cells": [
  {
   "cell_type": "markdown",
   "id": "c1ea4b36",
   "metadata": {},
   "source": [
    "# Vehicle Routing Problem Solution using Genetic Algorithm\n",
    "\n",
    "This notebook implements a solution to the Vehicle Routing Problem (VRP) using a Genetic Algorithm approach. The problem involves:\n",
    "\n",
    "- Multiple vehicles with different capacities and range constraints\n",
    "- Multiple clients with specific demands\n",
    "- A single depot where all vehicles start and end their routes\n",
    "- The objective is to minimize the total distance traveled while satisfying all constraints\n",
    "\n",
    "## Problem Characteristics\n",
    "- 24 clients with varying demands\n",
    "- 8 vehicles with different capacities and range limits\n",
    "- Constraints:\n",
    "  - Vehicle capacity cannot be exceeded\n",
    "  - Vehicle range/autonomy must be respected\n",
    "  - Each client must be visited exactly once\n",
    "  - All vehicles must return to the depot"
   ]
  },
  {
   "cell_type": "markdown",
   "id": "15b91818",
   "metadata": {},
   "source": [
    "## 1. Required Imports and Data Loading\n",
    "\n",
    "First, we'll import the necessary libraries and load our data files:"
   ]
  },
  {
   "cell_type": "code",
   "execution_count": 1,
   "id": "f0bbbda4",
   "metadata": {},
   "outputs": [],
   "source": [
    "import numpy as np\n",
    "import pandas as pd\n",
    "from math import radians, sin, cos, sqrt, atan2\n",
    "from copy import deepcopy\n",
    "import random\n",
    "from typing import List, Dict, Tuple\n",
    "import os\n",
    "import json\n",
    "from pprint import pprint"
   ]
  },
  {
   "cell_type": "markdown",
   "id": "56384af4",
   "metadata": {},
   "source": [
    "### Load and examine the data\n",
    "\n",
    "We'll load our three main data files:\n",
    "1. clients.csv - Contains client locations and demands\n",
    "2. depots.csv - Contains depot location\n",
    "3. vehicles.csv - Contains vehicle capacities and ranges"
   ]
  },
  {
   "cell_type": "code",
   "execution_count": 2,
   "id": "958a618d",
   "metadata": {},
   "outputs": [
    {
     "name": "stdout",
     "output_type": "stream",
     "text": [
      "Clients Data:\n",
      "   ClientID  LocationID  Demand  Longitude  Latitude\n",
      "0         1           2      13 -74.098938  4.597954\n",
      "1         2           3      15 -74.075571  4.687821\n",
      "2         3           4      12 -74.107085  4.709494\n",
      "3         4           5      15 -74.097280  4.605029\n",
      "4         5           6      20 -74.164641  4.648464\n",
      "\n",
      "Depot Data:\n",
      "   LocationID  DepotID  Longitude  Latitude\n",
      "0           1        1 -74.153536  4.743359\n",
      "\n",
      "Vehicles Data:\n",
      "   VehicleID  Capacity  Range\n",
      "0          1       130    170\n",
      "1          2       140    200\n",
      "2          3       120    180\n",
      "3          4       100     90\n",
      "4          5        70    100\n",
      "5          6        55    170\n",
      "6          7       110    150\n",
      "7          8       114    140\n"
     ]
    }
   ],
   "source": [
    "# File paths\n",
    "data_dir = \"data_cases/caso_base\"\n",
    "clients_df = pd.read_csv(os.path.join(data_dir, \"clients.csv\"))\n",
    "depots_df = pd.read_csv(os.path.join(data_dir, \"depots.csv\"))\n",
    "vehicles_df = pd.read_csv(os.path.join(data_dir, \"vehicles.csv\"))\n",
    "\n",
    "print(\"Clients Data:\")\n",
    "print(clients_df.head())\n",
    "print(\"\\nDepot Data:\")\n",
    "print(depots_df)\n",
    "print(\"\\nVehicles Data:\")\n",
    "print(vehicles_df)"
   ]
  },
  {
   "cell_type": "markdown",
   "id": "7e61633c",
   "metadata": {},
   "source": [
    "## 2. Import GA-VRP Solver\n",
    "\n",
    "We'll import our GA-VRP solver implementation from the Python module:"
   ]
  },
  {
   "cell_type": "code",
   "execution_count": 3,
   "id": "0122eb01",
   "metadata": {},
   "outputs": [],
   "source": [
    "from ga_vrp_solver import GAVRP, Solution"
   ]
  },
  {
   "cell_type": "markdown",
   "id": "241f419a",
   "metadata": {},
   "source": [
    "## 3. Create and Configure the Solver\n",
    "\n",
    "Now we'll create an instance of our solver with the appropriate parameters:"
   ]
  },
  {
   "cell_type": "code",
   "execution_count": 4,
   "id": "3885a778",
   "metadata": {},
   "outputs": [],
   "source": [
    "# Create solver instance\n",
    "solver = GAVRP(\n",
    "    depot_file=os.path.join(data_dir, \"depots.csv\"),\n",
    "    clients_file=os.path.join(data_dir, \"clients.csv\"),\n",
    "    vehicles_file=os.path.join(data_dir, \"vehicles.csv\"),\n",
    "    population_size=100,\n",
    "    generations=100,\n",
    "    mutation_rate=0.1,\n",
    "    elitism_rate=0.1\n",
    ")"
   ]
  },
  {
   "cell_type": "markdown",
   "id": "52673167",
   "metadata": {},
   "source": [
    "## 4. Run the Evolution Process\n",
    "\n",
    "Now we'll run the genetic algorithm to find a solution:"
   ]
  },
  {
   "cell_type": "code",
   "execution_count": 5,
   "id": "b9d94a5c",
   "metadata": {},
   "outputs": [
    {
     "name": "stdout",
     "output_type": "stream",
     "text": [
      "Starting evolution process...\n",
      "Generation 0: Best Fitness = 324.07\n",
      "Generation 10: Best Fitness = 303.00\n",
      "Generation 20: Best Fitness = 281.13\n",
      "Generation 30: Best Fitness = 256.84\n",
      "Generation 40: Best Fitness = 250.83\n",
      "Generation 50: Best Fitness = 243.30\n",
      "Generation 60: Best Fitness = 237.04\n",
      "Generation 70: Best Fitness = 228.85\n",
      "Generation 80: Best Fitness = 228.70\n",
      "Generation 90: Best Fitness = 228.70\n"
     ]
    }
   ],
   "source": [
    "# Run the evolution process\n",
    "print(\"Starting evolution process...\")\n",
    "best_solution = solver.evolve(verbose=True)"
   ]
  },
  {
   "cell_type": "markdown",
   "id": "9ad48f36",
   "metadata": {},
   "source": [
    "## 5. Analyze Results\n",
    "\n",
    "Let's examine the best solution found:"
   ]
  },
  {
   "cell_type": "code",
   "execution_count": 6,
   "id": "c057143b",
   "metadata": {},
   "outputs": [
    {
     "name": "stdout",
     "output_type": "stream",
     "text": [
      "\n",
      "Best Solution Summary:\n",
      "Total Distance: 211.17 km\n",
      "Total Load: 377 units\n",
      "\n",
      "Route Details:\n",
      "\n",
      "Vehicle 1:\n",
      "  Route: Depot -> 21 -> 15 -> 24 -> 20 -> 2 -> 7 -> 9 -> Depot\n",
      "  Load: 106/130 units\n",
      "  Distance: 51.82/170.0 km\n",
      "\n",
      "Vehicle 4:\n",
      "  Route: Depot -> 13 -> 23 -> 18 -> 10 -> 19 -> Depot\n",
      "  Load: 87/100 units\n",
      "  Distance: 45.34/90.0 km\n",
      "\n",
      "Vehicle 7:\n",
      "  Route: Depot -> 4 -> 3 -> 14 -> 11 -> 25 -> 6 -> Depot\n",
      "  Load: 94/110 units\n",
      "  Distance: 49.87/150.0 km\n",
      "\n",
      "Vehicle 8:\n",
      "  Route: Depot -> 12 -> 17 -> 5 -> 16 -> 8 -> 22 -> Depot\n",
      "  Load: 90/114 units\n",
      "  Distance: 64.14/140.0 km\n",
      "\n",
      "Solution saved to ga_vrp_solution.json\n"
     ]
    }
   ],
   "source": [
    "# Get and print solution summary\n",
    "summary = solver.get_solution_summary(best_solution)\n",
    "\n",
    "print(\"\\nBest Solution Summary:\")\n",
    "print(f\"Total Distance: {summary['total_distance']:.2f} km\")\n",
    "print(f\"Total Load: {summary['total_load']} units\")\n",
    "\n",
    "if summary['unassigned_clients']:\n",
    "    print(f\"\\nWarning: {len(summary['unassigned_clients'])} unassigned clients!\")\n",
    "    print(\"Unassigned clients:\", sorted(summary['unassigned_clients']))\n",
    "\n",
    "print(\"\\nRoute Details:\")\n",
    "for route in summary['routes']:\n",
    "    if route['route']:  # Only print non-empty routes\n",
    "        print(f\"\\nVehicle {route['vehicle_id']}:\")\n",
    "        print(f\"  Route: Depot -> {' -> '.join(map(str, route['route']))} -> Depot\")\n",
    "        print(f\"  Load: {route['load']}/{route['capacity']} units\")\n",
    "        print(f\"  Distance: {route['distance']:.2f}/{route['range']} km\")\n",
    "\n",
    "# Save solution to file\n",
    "output_file = \"ga_vrp_solution.json\"\n",
    "with open(output_file, 'w') as f:\n",
    "    json.dump(summary, f, indent=2)\n",
    "print(f\"\\nSolution saved to {output_file}\")"
   ]
  }
 ],
 "metadata": {
  "kernelspec": {
   "display_name": "Python 3",
   "language": "python",
   "name": "python3"
  },
  "language_info": {
   "codemirror_mode": {
    "name": "ipython",
    "version": 3
   },
   "file_extension": ".py",
   "mimetype": "text/x-python",
   "name": "python",
   "nbconvert_exporter": "python",
   "pygments_lexer": "ipython3",
   "version": "3.13.1"
  }
 },
 "nbformat": 4,
 "nbformat_minor": 5
}
